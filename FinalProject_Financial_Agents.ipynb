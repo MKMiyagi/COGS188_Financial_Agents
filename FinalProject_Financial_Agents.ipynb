{
 "cells": [
  {
   "cell_type": "markdown",
   "metadata": {},
   "source": [
    "# COGS 118B - Final Project"
   ]
  },
  {
   "cell_type": "markdown",
   "metadata": {},
   "source": [
    "# Exploring Different Reinforcement Learning Algorithms for Stock Trading to Optimize Profitability\n",
    "\n",
    "## Group members\n",
    "\n",
    "- Ryan Chen\n",
    "- Nicholas Gao\n",
    "- Matthew Miyagishima"
   ]
  },
  {
   "cell_type": "markdown",
   "metadata": {},
   "source": [
    "# Abstract \n",
    "\n",
    "Stock trading is full of unpredictability and volatility. Without substantial understanding and experience in trading stocks, it is difficult for a person to trade actively and profit off of stocks. However, mathematical models and intelligent software can do a much better job of learning patterns and capitalizing on them. We explore the performance of value-based and policy-based reinforcement learning algorithms on trading stock data by comparing profits earned by Monte Carlo Q-learning, Monte Carlo policy gradient, and Advantage Actor-Critic on AAPL, TSLA, META, NVDA, and GME stocks from 2014 to 2024."
   ]
  },
  {
   "attachments": {},
   "cell_type": "markdown",
   "metadata": {},
   "source": [
    "# Background\n",
    "\n",
    "The stock market is a highly dynamic environment influenced by various factors, making it challenging to develop reliable trading strategies. Traditional rule-based approaches are often too rigid and fail to adapt to changing market conditions. Recently, machine learning techniques, particularly **Reinforcement Learning (RL)**, have become a popular tool for financial applications due to their ability to learn optimal strategies through direct interaction with the environment.\n",
    "\n",
    "In this project, we aim to build a **stock market trading agent** that leverages **Markov Decision Processes (MDPs)** as the underlying framework and applies **Q-Learning** and **Monte Carlo methods** to learn an optimal trading policy. The agent will use historical stock price data to simulate trading decisions and learn when to buy, sell, or hold a stock to maximize long-term profitability. We will focus on backtesting the agent’s strategy on historical data to assess its performance in a simulated environment.\n"
   ]
  },
  {
   "cell_type": "markdown",
   "metadata": {},
   "source": [
    "# Problem Statement\n",
    "\n",
    "The objective of this project is to design a stock market trading agent that interacts with historical stock data and learns to optimize its trading strategy using **Markov Decision Processes (MDPs)**. The problem can be modeled as an MDP with the following components:\n",
    "\n",
    "- **State Space:** The state provides information on stock prices over the past `window_size` days.\n",
    "- **Action Space:** The agent can choose one of three actions at each time step:\n",
    "  - **Buy:** Purchase some quantity of the stock.\n",
    "  - **Sell:** Sell some quantity of held stocks.\n",
    "  - **Hold:** Take no action and maintain the current position.\n",
    "- **Reward Function:** The reward function rewards the agent for making profitable actions on each stock:\n",
    "  - **Buy:** +5 reward for a valid purchase (based on agent's balance), +2 if agent overestimates number of stocks it can purchase, -5 reward if agent does not have enough money to even purchase one stock\n",
    "  - **Sell:** +5 for a sell that increases the agent's total portfolio value, -2 if agent loses porfolio value after selling, and -5 for an invalid sell action\n",
    "  - **Hold:** No reward or penalty\n",
    "  - **Bonus:** Percentage change in portfolio value * 10\n",
    "\n",
    "We will train the agent using three reinforcement learning approaches:\n",
    "1. **Monte Carlo Q-Learning** a model-free method that learns the optimal action at each state.\n",
    "2. **Monte Carlo Policy Gradient (REINFORCE)** a policy-based on-policy method that simulates entire processes and updates the policy according to the final reward.\n",
    "3. **A2C** an improvement on REINFORCE that introduces an actor-critic architecture where the actor learns the policy while the critic estimates the value function.\n",
    "\n",
    "We will evaluate the performance of each agent by looking at the final portfoliio value at the end of the time period. At the same time, we will be comparing their performance against that of the S&P500 across the same period."
   ]
  },
  {
   "cell_type": "markdown",
   "metadata": {},
   "source": [
    "# Data\n",
    "\n",
    "We will use historical stock price data from the following sources:\n",
    "\n",
    "1. **Yahoo Finance API** ([https://finance.yahoo.com](https://finance.yahoo.com))\n",
    "   - Provides daily and intraday stock data.\n",
    "   - Variables: `Date`, `Close`, `Split`.\n",
    "\n",
    "2. **S&P 500 Historical Data**\n",
    "   - Used as a benchmark for evaluating the trading agent’s performance.\n",
    "\n",
    "### Data Preprocessing:\n",
    "The Yahoo Finance API is a very developed API and has full data over the time period we are considering for the 5 chosen stocks. Thus no data preprocessing is required before using it to train our agents."
   ]
  },
  {
   "cell_type": "markdown",
   "metadata": {},
   "source": [
    "# Proposed Solution\n",
    "\n",
    "We propose three different solutions to the stock trading problem. Each of the solution algorithms will train an agent to interact with the environment through buying, selling, and holding on to stocks. These agents will be trained on data on AAPL, TSLA, META, NVDA, and GME stocks from 2014 to 2024 to optimize their profits.\n",
    "\n",
    "**Monte Carlo Q-Learning**\n",
    "\n",
    "The Monte Carlo Q-Learning algorithm is a value-based on-policy algorithm. In each episode, an action is selected using an epsilon-greedy selection at each state. The entire 10-year stock trading experience is simulated while the state, action, and reward are tracked. At the end of an episode, the tracked states, actions, and rewards are used to update the Q-table at each of those states to favor certain actions over others. The process continues until the agent learns the task well.\n",
    "\n",
    "Below is the pseudo-code for this algorithm:\n",
    "```\n",
    "for each episode:\n",
    "    initialize the environment\n",
    "    observe the initial state s\n",
    "    episode = []\n",
    "\n",
    "    while episode is not done:\n",
    "        choose action a using epsilon-greedy policy from Q(s, *)\n",
    "        take action a, record reward r and next state s'\n",
    "        store (s, a, r) in episode\n",
    "        s = s'\n",
    "    \n",
    "    G = 0\n",
    "    for each step (s, a, r) in episode, in reverse order:\n",
    "        G = gamma * G + r\n",
    "        if (s, a) is the first occurence in the episode:\n",
    "            append G to returns(s, a)\n",
    "            Q(s, a) = average(returns(s, a))\n",
    "return Q\n",
    "```\n",
    "\n",
    "**Monte Carlo Policy Gradient**\n",
    "\n",
    "The Monte Carlo Policy Gradient, or REINFORCE, algorithm is a policy-based on-policy training algorithm. It is similar to MC Q-Learning in that the agent simulates entire episodes of the task based on its policy before updating. However, this algorithm utilizes a neural network to represent its policy, and action selection is over a distribution rather than an epsilon-greedy selection.\n",
    "\n",
    "Below is the pseudo-code for this algorithm:\n",
    "```\n",
    "for each episode:\n",
    "    initialize the environment\n",
    "    observe the initial state s\n",
    "    episode = []\n",
    "\n",
    "    while episode is not done:\n",
    "        get distribution from a forward pass\n",
    "        choose action a using distribution\n",
    "        take action a, record reward r and next state s'\n",
    "        store (s, a, r) in episode\n",
    "        s = s'\n",
    "    \n",
    "    G = 0\n",
    "    for each step (s, a, r) in episode, in reverse order:\n",
    "        G = gamma * G + r\n",
    "        theta = theta + alpha * G * gradient(log(policy))\n",
    "```\n",
    "\n",
    "**A2C**\n",
    "\n",
    "The Advantage Actor-Critic algorithm is a policy-based on-policy training algorithm. It combines both policy gradient and value function estimation where the actor learns the policy while the critic learns to estimate the value of states. This algorithm achieves a more stable learning compared to REINFORCE due to reduced variance in the gradient estimates since it uses advantage for gradient calculations.\n",
    "\n",
    "Below is the pseudo-code for this algorithm:\n",
    "```\n",
    "for each episode:\n",
    "    initialize the environment\n",
    "    observe the initial state s\n",
    "    episode = []\n",
    "\n",
    "    while not done:\n",
    "        get action distribution from actor\n",
    "        choose action a using distribution\n",
    "        take action a, record reward r and next state s'\n",
    "\n",
    "        estimate value v of current state\n",
    "        get value of next state v'\n",
    "        set td target = r + gamma * v'\n",
    "\n",
    "        compute advantage A = td target - v\n",
    "\n",
    "        calculate squared loss for critic and update the critic\n",
    "        update the actor: theta = theta + alpha * gradient(log(policy) * A)\n",
    "\n",
    "        s = s'\n",
    "```"
   ]
  },
  {
   "cell_type": "markdown",
   "metadata": {},
   "source": [
    "# Evaluation Metrics\n",
    "\n",
    "The main evaluation metric that we will use will be how much the agent grows/shrinks their portfolio percentage-wise over the test period. We will do so by giving the agent a portfolio to start off with at the beginning of the test period and evaluate the portfolio's worth daily throughout testing to measure how well the agent is doing. We believe that this is a good evaluation metric as the main goal of the agent is to maximize gains through buying, holding, and selling stocks.\n",
    "\n",
    "A mathematical representation of this metric would be\n",
    "\n",
    "$G_T = \\frac{V_T - V_0}{V_0}$\n",
    "\n",
    "Where\n",
    "- $G_T$ is the gain/loss on day T\n",
    "- $V_T$ is the value of the portfolio on day T\n",
    "- $V_0$ is the value of the portfolio i the beginning"
   ]
  },
  {
   "attachments": {},
   "cell_type": "markdown",
   "metadata": {},
   "source": [
    "# Results"
   ]
  },
  {
   "cell_type": "markdown",
   "metadata": {},
   "source": [
    "## Testing all 3 algorithms with 3 stable stocks, 'AAPL', 'META', 'MSFT'"
   ]
  },
  {
   "cell_type": "markdown",
   "metadata": {},
   "source": [
    "### Monte Carlo Simulations"
   ]
  },
  {
   "cell_type": "code",
   "execution_count": 10,
   "metadata": {},
   "outputs": [
    {
     "name": "stdout",
     "output_type": "stream",
     "text": [
      "The autoreload extension is already loaded. To reload it, use:\n",
      "  %reload_ext autoreload\n"
     ]
    }
   ],
   "source": [
    "# Enable auto-reload\n",
    "%load_ext autoreload\n",
    "%autoreload 2\n",
    "from training_env import StockTrainingEnv\n",
    "from monte_carlo import monte_carlo_train, monte_carlo_eval"
   ]
  },
  {
   "cell_type": "code",
   "execution_count": 11,
   "metadata": {},
   "outputs": [
    {
     "name": "stderr",
     "output_type": "stream",
     "text": [
      "[*********************100%***********************]  3 of 3 completed\n"
     ]
    }
   ],
   "source": [
    "# Set Up Stock Trading Environment\n",
    "monte_carlo_env_1 = StockTrainingEnv(tickers=['AAPL', 'META', 'MSFT'])"
   ]
  },
  {
   "cell_type": "code",
   "execution_count": 12,
   "metadata": {},
   "outputs": [
    {
     "name": "stderr",
     "output_type": "stream",
     "text": [
      "Monte Carlo Training: 100%|██████████| 1000/1000 [04:19<00:00,  3.86it/s]\n"
     ]
    },
    {
     "name": "stdout",
     "output_type": "stream",
     "text": [
      "Monte Carlo training complete\n"
     ]
    }
   ],
   "source": [
    "# Train the Monte Carlo Agent\n",
    "monte_carlo_q_table_1 = monte_carlo_train(monte_carlo_env_1)"
   ]
  },
  {
   "cell_type": "code",
   "execution_count": 13,
   "metadata": {},
   "outputs": [
    {
     "name": "stdout",
     "output_type": "stream",
     "text": [
      "Step: 50, Balance: 6904.545969009399, Total Value: 10195.024492263794, Shares: {'AAPL': np.int64(89), 'META': np.float64(0.0), 'MSFT': np.float64(57.0)}\n",
      "Step: 70, Balance: 1671.0195846557617, Total Value: 10339.651378631592, Shares: {'AAPL': np.int64(47), 'META': np.float64(123.0), 'MSFT': np.float64(21.0)}\n",
      "Step: 90, Balance: 3635.6506156921387, Total Value: 10712.870222091675, Shares: {'AAPL': np.float64(111.0), 'META': np.float64(84.0), 'MSFT': np.float64(0.0)}\n",
      "Step: 110, Balance: 39.758419036865234, Total Value: 10990.12886428833, Shares: {'AAPL': np.float64(0.0), 'META': np.float64(125.0), 'MSFT': np.float64(80.0)}\n",
      "Step: 130, Balance: 9018.802225112915, Total Value: 11017.532609939575, Shares: {'AAPL': np.float64(87.0), 'META': np.float64(0.0), 'MSFT': np.float64(5.0)}\n",
      "Step: 150, Balance: 1801.3739337921143, Total Value: 11587.266729354858, Shares: {'AAPL': np.float64(239.0), 'META': np.float64(24.0), 'MSFT': np.float64(83.0)}\n",
      "Step: 170, Balance: 4256.716464996338, Total Value: 12247.384323120117, Shares: {'AAPL': np.float64(0.0), 'META': np.float64(79.0), 'MSFT': np.float64(49.0)}\n",
      "Step: 190, Balance: 22.645854949951172, Total Value: 12046.262599945068, Shares: {'AAPL': np.float64(0.0), 'META': np.float64(46.0), 'MSFT': np.float64(216.0)}\n",
      "Step: 210, Balance: 1.1670093536376953, Total Value: 12231.695446014404, Shares: {'AAPL': np.float64(255.0), 'META': np.float64(5.0), 'MSFT': np.float64(144.0)}\n",
      "Step: 230, Balance: 175.4372844696045, Total Value: 12882.20770072937, Shares: {'AAPL': np.float64(80.0), 'META': np.float64(30.0), 'MSFT': np.float64(202.0)}\n",
      "Step: 250, Balance: 9852.190599441528, Total Value: 12828.285768508911, Shares: {'AAPL': np.float64(100.0), 'META': np.float64(6.0), 'MSFT': np.float64(0.0)}\n",
      "Step: 270, Balance: 1230.08150100708, Total Value: 13220.260437011719, Shares: {'AAPL': np.float64(305.0), 'META': np.float64(19.0), 'MSFT': np.float64(68.0)}\n",
      "Step: 290, Balance: 1949.8235321044922, Total Value: 14090.162858963013, Shares: {'AAPL': np.float64(253.0), 'META': np.float64(0.0), 'MSFT': np.float64(129.0)}\n",
      "Step: 310, Balance: 30.954673767089844, Total Value: 13797.471035003662, Shares: {'AAPL': np.float64(137.0), 'META': np.float64(89.0), 'MSFT': np.float64(74.0)}\n",
      "Step: 330, Balance: 10.059682846069336, Total Value: 13920.40673828125, Shares: {'AAPL': np.float64(125.0), 'META': np.float64(113.0), 'MSFT': np.float64(24.0)}\n",
      "Step: 350, Balance: 8228.843929290771, Total Value: 13724.599895477295, Shares: {'AAPL': np.float64(0.0), 'META': np.float64(45.0), 'MSFT': np.float64(48.0)}\n",
      "Step: 370, Balance: 2028.5703086853027, Total Value: 13654.217658996582, Shares: {'AAPL': np.float64(110.0), 'META': np.float64(10.0), 'MSFT': np.float64(191.0)}\n",
      "Step: 390, Balance: 3518.9419326782227, Total Value: 13730.741954803467, Shares: {'AAPL': np.float64(10.0), 'META': np.float64(25.0), 'MSFT': np.float64(190.0)}\n",
      "Step: 410, Balance: 1124.5471782684326, Total Value: 13921.964780807495, Shares: {'AAPL': np.float64(140.0), 'META': np.float64(0.0), 'MSFT': np.float64(225.0)}\n",
      "Step: 430, Balance: 5223.462217330933, Total Value: 13354.685430526733, Shares: {'AAPL': np.float64(192.0), 'META': np.float64(30.0), 'MSFT': np.float64(10.0)}\n",
      "Step: 450, Balance: 24.96331787109375, Total Value: 13559.742782592773, Shares: {'AAPL': np.float64(63.0), 'META': np.float64(104.0), 'MSFT': np.float64(49.0)}\n",
      "Step: 470, Balance: 8008.833974838257, Total Value: 14722.629079818726, Shares: {'AAPL': np.float64(0.0), 'META': np.float64(0.0), 'MSFT': np.float64(144.0)}\n",
      "Step: 490, Balance: 10814.951555252075, Total Value: 14886.27840423584, Shares: {'AAPL': np.float64(159.0), 'META': np.float64(0.0), 'MSFT': np.float64(0.0)}\n",
      "Step: 510, Balance: 2575.2225303649902, Total Value: 13745.486717224121, Shares: {'AAPL': np.float64(405.0), 'META': np.float64(10.0), 'MSFT': np.float64(22.0)}\n",
      "Step: 530, Balance: 47.00184631347656, Total Value: 13045.966665267944, Shares: {'AAPL': np.float64(489.0), 'META': np.float64(25.0), 'MSFT': np.float64(0.0)}\n",
      "Step: 550, Balance: 4598.7662715911865, Total Value: 13677.667554855347, Shares: {'AAPL': np.float64(84.0), 'META': np.float64(44.0), 'MSFT': np.float64(53.0)}\n",
      "Step: 570, Balance: 5514.887134552002, Total Value: 14249.60175704956, Shares: {'AAPL': np.float64(84.0), 'META': np.float64(0.0), 'MSFT': np.float64(138.0)}\n",
      "Step: 590, Balance: 12.782520294189453, Total Value: 14151.8537940979, Shares: {'AAPL': np.float64(120.0), 'META': np.float64(40.0), 'MSFT': np.float64(153.0)}\n",
      "Step: 610, Balance: 8003.710426330566, Total Value: 14287.023052215576, Shares: {'AAPL': np.float64(0.0), 'META': np.float64(0.0), 'MSFT': np.float64(135.0)}\n",
      "Step: 630, Balance: 8.557319641113281, Total Value: 14018.004013061523, Shares: {'AAPL': np.float64(50.0), 'META': np.float64(12.0), 'MSFT': np.float64(253.0)}\n",
      "Step: 650, Balance: 11578.001672744751, Total Value: 15328.933794021606, Shares: {'AAPL': np.float64(0.0), 'META': np.float64(10.0), 'MSFT': np.float64(50.0)}\n",
      "Step: 670, Balance: 26.994274139404297, Total Value: 15346.36732673645, Shares: {'AAPL': np.float64(143.0), 'META': np.float64(60.0), 'MSFT': np.float64(83.0)}\n",
      "Step: 690, Balance: 1278.6761779785156, Total Value: 15521.923379898071, Shares: {'AAPL': np.float64(1.0), 'META': np.float64(70.0), 'MSFT': np.float64(100.0)}\n",
      "Step: 710, Balance: 33.05410957336426, Total Value: 15842.09861946106, Shares: {'AAPL': np.float64(207.0), 'META': np.float64(79.0), 'MSFT': np.float64(0.0)}\n",
      "Step: 730, Balance: 8.273429870605469, Total Value: 15590.550514221191, Shares: {'AAPL': np.float64(213.0), 'META': np.float64(84.0), 'MSFT': np.float64(0.0)}\n",
      "Step: 750, Balance: 18.370731353759766, Total Value: 15816.33059310913, Shares: {'AAPL': np.float64(146.0), 'META': np.float64(77.0), 'MSFT': np.float64(50.0)}\n",
      "Step: 770, Balance: 2843.5191440582275, Total Value: 16116.886339187622, Shares: {'AAPL': np.float64(70.0), 'META': np.float64(88.0), 'MSFT': np.float64(0.0)}\n",
      "Step: 790, Balance: 6785.9514236450195, Total Value: 16593.620845794678, Shares: {'AAPL': np.float64(91.0), 'META': np.float64(51.0), 'MSFT': np.float64(0.0)}\n",
      "Step: 810, Balance: 111.59126663208008, Total Value: 16834.429531097412, Shares: {'AAPL': np.float64(10.0), 'META': np.float64(118.0), 'MSFT': np.float64(0.0)}\n",
      "Step: 830, Balance: 13258.461742401123, Total Value: 17072.946117401123, Shares: {'AAPL': np.float64(0.0), 'META': np.float64(0.0), 'MSFT': np.float64(64.0)}\n",
      "Step: 850, Balance: 21.992687225341797, Total Value: 16868.219848632812, Shares: {'AAPL': np.float64(43.0), 'META': np.float64(100.0), 'MSFT': np.float64(10.0)}\n",
      "Step: 870, Balance: 13919.056922912598, Total Value: 17077.507698059082, Shares: {'AAPL': np.float64(50.0), 'META': np.float64(10.0), 'MSFT': np.float64(0.0)}\n",
      "Step: 890, Balance: 9033.743091583252, Total Value: 17825.267559051514, Shares: {'AAPL': np.float64(210.0), 'META': np.float64(5.0), 'MSFT': np.float64(10.0)}\n",
      "Step: 910, Balance: 1055.9034423828125, Total Value: 18239.104415893555, Shares: {'AAPL': np.float64(164.0), 'META': np.float64(0.0), 'MSFT': np.float64(164.0)}\n",
      "Step: 930, Balance: 6229.038982391357, Total Value: 18495.99998855591, Shares: {'AAPL': np.float64(10.0), 'META': np.float64(10.0), 'MSFT': np.float64(148.0)}\n",
      "Step: 950, Balance: 11438.545631408691, Total Value: 18326.21283721924, Shares: {'AAPL': np.float64(0.0), 'META': np.float64(28.0), 'MSFT': np.float64(30.0)}\n",
      "Step: 970, Balance: 4677.541847229004, Total Value: 19159.93416595459, Shares: {'AAPL': np.float64(100.0), 'META': np.float64(0.0), 'MSFT': np.float64(134.0)}\n",
      "Step: 990, Balance: 3098.97013092041, Total Value: 18630.65944671631, Shares: {'AAPL': np.float64(0.0), 'META': np.float64(55.0), 'MSFT': np.float64(77.0)}\n",
      "Step: 1010, Balance: 842.4005813598633, Total Value: 19583.394985198975, Shares: {'AAPL': np.float64(75.0), 'META': np.float64(0.0), 'MSFT': np.float64(192.0)}\n",
      "Step: 1030, Balance: 47.30850601196289, Total Value: 18339.431674957275, Shares: {'AAPL': np.float64(308.0), 'META': np.float64(12.0), 'MSFT': np.float64(59.0)}\n",
      "Step: 1050, Balance: 12.58224105834961, Total Value: 20118.030200958252, Shares: {'AAPL': np.float64(375.0), 'META': np.float64(25.0), 'MSFT': np.float64(0.0)}\n",
      "Step: 1070, Balance: 16357.606239318848, Total Value: 19510.874546051025, Shares: {'AAPL': np.float64(55.0), 'META': np.float64(6.0), 'MSFT': np.float64(0.0)}\n",
      "Step: 1090, Balance: 0.2964973449707031, Total Value: 19860.558895111084, Shares: {'AAPL': np.float64(218.0), 'META': np.float64(4.0), 'MSFT': np.float64(116.0)}\n",
      "Step: 1110, Balance: 3.939044952392578, Total Value: 21420.364631652832, Shares: {'AAPL': np.float64(1.0), 'META': np.float64(111.0), 'MSFT': np.float64(2.0)}\n",
      "Step: 1130, Balance: 9465.712474822998, Total Value: 21212.08079147339, Shares: {'AAPL': np.float64(214.0), 'META': np.float64(12.0), 'MSFT': np.float64(0.0)}\n",
      "Step: 1150, Balance: 10045.435626983643, Total Value: 20449.634044647217, Shares: {'AAPL': np.float64(230.0), 'META': np.float64(0.0), 'MSFT': np.float64(0.0)}\n",
      "Step: 1170, Balance: 4780.740993499756, Total Value: 21746.923023223877, Shares: {'AAPL': np.float64(0.0), 'META': np.float64(83.0), 'MSFT': np.float64(25.0)}\n",
      "Step: 1190, Balance: 51.79574966430664, Total Value: 21977.826961517334, Shares: {'AAPL': np.float64(150.0), 'META': np.float64(26.0), 'MSFT': np.float64(91.0)}\n",
      "Step: 1210, Balance: 1148.9894180297852, Total Value: 21391.589920043945, Shares: {'AAPL': np.float64(10.0), 'META': np.float64(104.0), 'MSFT': np.float64(36.0)}\n",
      "Step: 1230, Balance: 5810.409126281738, Total Value: 18349.445629119873, Shares: {'AAPL': np.float64(59.0), 'META': np.float64(57.0), 'MSFT': np.float64(25.0)}\n",
      "Step: 1250, Balance: 42.811798095703125, Total Value: 18477.364402770996, Shares: {'AAPL': np.float64(0.0), 'META': np.float64(0.0), 'MSFT': np.float64(189.0)}\n",
      "Step: 1270, Balance: 1488.0912971496582, Total Value: 18877.996646881104, Shares: {'AAPL': np.float64(56.0), 'META': np.float64(59.0), 'MSFT': np.float64(64.0)}\n",
      "Step: 1290, Balance: 10.08673095703125, Total Value: 20062.46767425537, Shares: {'AAPL': np.float64(30.0), 'META': np.float64(0.0), 'MSFT': np.float64(185.0)}\n",
      "Step: 1310, Balance: 6.416179656982422, Total Value: 21418.775463104248, Shares: {'AAPL': np.float64(30.0), 'META': np.float64(17.0), 'MSFT': np.float64(156.0)}\n",
      "Step: 1330, Balance: 14543.87071609497, Total Value: 21959.656505584717, Shares: {'AAPL': np.float64(0.0), 'META': np.float64(0.0), 'MSFT': np.float64(65.0)}\n",
      "Step: 1350, Balance: 11160.66259765625, Total Value: 22940.424434661865, Shares: {'AAPL': np.float64(21.0), 'META': np.float64(10.0), 'MSFT': np.float64(75.0)}\n",
      "Step: 1370, Balance: 0.6205406188964844, Total Value: 23488.46148300171, Shares: {'AAPL': np.float64(0.0), 'META': np.float64(128.0), 'MSFT': np.float64(7.0)}\n",
      "Step: 1390, Balance: 23200.420085906982, Total Value: 25946.905269622803, Shares: {'AAPL': np.float64(1.0), 'META': np.float64(10.0), 'MSFT': np.float64(5.0)}\n",
      "Step: 1410, Balance: 9470.08466720581, Total Value: 25352.737728118896, Shares: {'AAPL': np.float64(100.0), 'META': np.float64(59.0), 'MSFT': np.float64(0.0)}\n",
      "Step: 1430, Balance: 3692.4657669067383, Total Value: 25952.177452087402, Shares: {'AAPL': np.float64(0.0), 'META': np.float64(115.0), 'MSFT': np.float64(5.0)}\n",
      "Step: 1450, Balance: 18354.90944671631, Total Value: 25638.84152984619, Shares: {'AAPL': np.float64(0.0), 'META': np.float64(40.0), 'MSFT': np.float64(1.0)}\n",
      "Step: 1470, Balance: 6252.341327667236, Total Value: 26959.80238723755, Shares: {'AAPL': np.float64(92.0), 'META': np.float64(0.0), 'MSFT': np.float64(109.0)}\n",
      "Step: 1490, Balance: 27824.908721923828, Total Value: 28138.978717803955, Shares: {'AAPL': np.float64(5.0), 'META': np.float64(0.0), 'MSFT': np.float64(0.0)}\n",
      "Step: 1510, Balance: 84.24438095092773, Total Value: 29865.985355377197, Shares: {'AAPL': np.float64(69.0), 'META': np.float64(65.0), 'MSFT': np.float64(73.0)}\n",
      "Step: 1530, Balance: 37.7091178894043, Total Value: 28371.47594833374, Shares: {'AAPL': np.float64(1.0), 'META': np.float64(139.0), 'MSFT': np.float64(2.0)}\n",
      "Step: 1550, Balance: 90.89028549194336, Total Value: 29111.169368743896, Shares: {'AAPL': np.float64(0.0), 'META': np.float64(30.0), 'MSFT': np.float64(140.0)}\n",
      "Step: 1570, Balance: 11770.414413452148, Total Value: 27015.760120391846, Shares: {'AAPL': np.float64(1.0), 'META': np.float64(0.0), 'MSFT': np.float64(99.0)}\n",
      "Step: 1590, Balance: 640.2572250366211, Total Value: 29671.007652282715, Shares: {'AAPL': np.float64(0.0), 'META': np.float64(155.0), 'MSFT': np.float64(5.0)}\n",
      "Step: 1610, Balance: 33496.25688934326, Total Value: 35509.129051208496, Shares: {'AAPL': np.float64(0.0), 'META': np.float64(5.0), 'MSFT': np.float64(5.0)}\n",
      "Step: 1630, Balance: 21956.85848236084, Total Value: 36676.64325714111, Shares: {'AAPL': np.float64(155.0), 'META': np.float64(0.0), 'MSFT': np.float64(6.0)}\n",
      "Step: 1650, Balance: 11388.436630249023, Total Value: 37947.726654052734, Shares: {'AAPL': np.float64(59.0), 'META': np.float64(1.0), 'MSFT': np.float64(108.0)}\n",
      "Step: 1670, Balance: 18028.542602539062, Total Value: 40590.06569671631, Shares: {'AAPL': np.float64(5.0), 'META': np.float64(5.0), 'MSFT': np.float64(100.0)}\n",
      "Step: 1690, Balance: 91.556884765625, Total Value: 37775.10501098633, Shares: {'AAPL': np.float64(174.0), 'META': np.float64(8.0), 'MSFT': np.float64(91.0)}\n",
      "Step: 1710, Balance: 2497.7863693237305, Total Value: 39225.78789520264, Shares: {'AAPL': np.float64(77.0), 'META': np.float64(105.0), 'MSFT': np.float64(0.0)}\n",
      "Step: 1730, Balance: 2233.39412689209, Total Value: 40393.29988861084, Shares: {'AAPL': np.float64(0.0), 'META': np.float64(81.0), 'MSFT': np.float64(76.0)}\n",
      "Step: 1750, Balance: 101.9092025756836, Total Value: 40927.33923339844, Shares: {'AAPL': np.float64(5.0), 'META': np.float64(77.0), 'MSFT': np.float64(93.0)}\n",
      "Step: 1770, Balance: 12.265144348144531, Total Value: 37959.51250457764, Shares: {'AAPL': np.float64(1.0), 'META': np.float64(151.0), 'MSFT': np.float64(0.0)}\n",
      "Step: 1790, Balance: 1552.7618255615234, Total Value: 40844.521713256836, Shares: {'AAPL': np.float64(0.0), 'META': np.float64(146.0), 'MSFT': np.float64(0.0)}\n",
      "Step: 1810, Balance: 6940.883750915527, Total Value: 39941.574058532715, Shares: {'AAPL': np.float64(0.0), 'META': np.float64(115.0), 'MSFT': np.float64(10.0)}\n",
      "Step: 1830, Balance: 8503.324836730957, Total Value: 46013.93193817139, Shares: {'AAPL': np.float64(5.0), 'META': np.float64(0.0), 'MSFT': np.float64(149.0)}\n",
      "Step: 1850, Balance: 81.44292449951172, Total Value: 46314.82731628418, Shares: {'AAPL': np.float64(51.0), 'META': np.float64(131.0), 'MSFT': np.float64(0.0)}\n",
      "Step: 1870, Balance: 38.457984924316406, Total Value: 49394.12590789795, Shares: {'AAPL': np.float64(205.0), 'META': np.float64(55.0), 'MSFT': np.float64(23.0)}\n",
      "Step: 1890, Balance: 7599.436378479004, Total Value: 52241.74387359619, Shares: {'AAPL': np.float64(128.0), 'META': np.float64(6.0), 'MSFT': np.float64(90.0)}\n",
      "Step: 1910, Balance: 3663.2729721069336, Total Value: 52829.86092376709, Shares: {'AAPL': np.float64(334.0), 'META': np.float64(3.0), 'MSFT': np.float64(0.0)}\n",
      "Step: 1930, Balance: 6968.166664123535, Total Value: 54562.84275054932, Shares: {'AAPL': np.float64(318.0), 'META': np.float64(0.0), 'MSFT': np.float64(0.0)}\n",
      "Step: 1950, Balance: 3532.560173034668, Total Value: 50107.10457611084, Shares: {'AAPL': np.float64(161.0), 'META': np.float64(2.0), 'MSFT': np.float64(86.0)}\n",
      "Step: 1970, Balance: 7881.971321105957, Total Value: 51859.73365020752, Shares: {'AAPL': np.float64(1.0), 'META': np.float64(104.0), 'MSFT': np.float64(35.0)}\n",
      "Step: 1990, Balance: 30450.664512634277, Total Value: 54834.9310836792, Shares: {'AAPL': np.float64(0.0), 'META': np.float64(1.0), 'MSFT': np.float64(75.0)}\n",
      "Step: 2010, Balance: 6927.973487854004, Total Value: 56953.896644592285, Shares: {'AAPL': np.float64(0.0), 'META': np.float64(5.0), 'MSFT': np.float64(145.0)}\n",
      "Step: 2030, Balance: 371.2184524536133, Total Value: 48821.48334503174, Shares: {'AAPL': np.float64(0.0), 'META': np.float64(41.0), 'MSFT': np.float64(129.0)}\n",
      "Step: 2050, Balance: 7868.034080505371, Total Value: 44726.72743988037, Shares: {'AAPL': np.float64(82.0), 'META': np.float64(106.0), 'MSFT': np.float64(11.0)}\n",
      "Step: 2070, Balance: 59.762168884277344, Total Value: 49658.80867767334, Shares: {'AAPL': np.float64(0.0), 'META': np.float64(162.0), 'MSFT': np.float64(52.0)}\n",
      "Step: 2090, Balance: 208.7994613647461, Total Value: 45190.03420257568, Shares: {'AAPL': np.float64(6.0), 'META': np.float64(140.0), 'MSFT': np.float64(65.0)}\n",
      "Step: 2110, Balance: 39269.95446014404, Total Value: 41248.60179901123, Shares: {'AAPL': np.float64(0.0), 'META': np.float64(0.0), 'MSFT': np.float64(8.0)}\n",
      "Step: 2130, Balance: 11614.235359191895, Total Value: 37783.1393661499, Shares: {'AAPL': np.float64(51.0), 'META': np.float64(120.0), 'MSFT': np.float64(0.0)}\n",
      "Step: 2150, Balance: 152.91756439208984, Total Value: 39744.85573577881, Shares: {'AAPL': np.float64(0.0), 'META': np.float64(106.0), 'MSFT': np.float64(83.0)}\n",
      "Step: 2170, Balance: 30011.339668273926, Total Value: 40296.17174530029, Shares: {'AAPL': np.float64(55.0), 'META': np.float64(5.0), 'MSFT': np.float64(0.0)}\n",
      "Step: 2190, Balance: 20618.420860290527, Total Value: 39522.03524017334, Shares: {'AAPL': np.float64(104.0), 'META': np.float64(0.0), 'MSFT': np.float64(12.0)}\n",
      "Step: 2210, Balance: 0.5606307983398438, Total Value: 34915.987480163574, Shares: {'AAPL': np.float64(195.0), 'META': np.float64(34.0), 'MSFT': np.float64(18.0)}\n",
      "Step: 2230, Balance: 18117.137886047363, Total Value: 33233.892250061035, Shares: {'AAPL': np.float64(17.0), 'META': np.float64(75.0), 'MSFT': np.float64(24.0)}\n",
      "Step: 2250, Balance: 12165.397109985352, Total Value: 34547.56819152832, Shares: {'AAPL': np.float64(105.0), 'META': np.float64(66.0), 'MSFT': np.float64(0.0)}\n",
      "Step: 2270, Balance: 2405.9150009155273, Total Value: 37197.28830718994, Shares: {'AAPL': np.float64(1.0), 'META': np.float64(179.0), 'MSFT': np.float64(52.0)}\n",
      "Step: 2290, Balance: 19389.288551330566, Total Value: 45893.51760101318, Shares: {'AAPL': np.float64(125.0), 'META': np.float64(25.0), 'MSFT': np.float64(10.0)}\n",
      "Step: 2310, Balance: 2115.691474914551, Total Value: 44767.78177642822, Shares: {'AAPL': np.float64(147.0), 'META': np.float64(62.0), 'MSFT': np.float64(36.0)}\n",
      "Step: 2330, Balance: 191.01117706298828, Total Value: 48737.365394592285, Shares: {'AAPL': np.float64(51.0), 'META': np.float64(77.0), 'MSFT': np.float64(86.0)}\n",
      "Step: 2350, Balance: 31788.29141998291, Total Value: 53831.4780960083, Shares: {'AAPL': np.float64(55.0), 'META': np.float64(56.0), 'MSFT': np.float64(0.0)}\n",
      "Step: 2370, Balance: 351.9599380493164, Total Value: 59677.06540679932, Shares: {'AAPL': np.float64(4.0), 'META': np.float64(216.0), 'MSFT': np.float64(0.0)}\n",
      "Step: 2390, Balance: 3409.773796081543, Total Value: 62599.11974334717, Shares: {'AAPL': np.float64(70.0), 'META': np.float64(161.0), 'MSFT': np.float64(0.0)}\n",
      "Step: 2410, Balance: 47470.36641693115, Total Value: 65387.46523284912, Shares: {'AAPL': np.float64(0.0), 'META': np.float64(0.0), 'MSFT': np.float64(54.0)}\n",
      "Step: 2430, Balance: 16325.390022277832, Total Value: 64917.84204864502, Shares: {'AAPL': np.float64(210.0), 'META': np.float64(18.0), 'MSFT': np.float64(15.0)}\n",
      "Step: 2450, Balance: 1500.7304458618164, Total Value: 62369.00022125244, Shares: {'AAPL': np.float64(230.0), 'META': np.float64(0.0), 'MSFT': np.float64(71.0)}\n",
      "Step: 2470, Balance: 57748.68810272217, Total Value: 63711.18688201904, Shares: {'AAPL': np.float64(0.0), 'META': np.float64(20.0), 'MSFT': np.float64(0.0)}\n",
      "Step: 2490, Balance: 9707.294609069824, Total Value: 69777.53298187256, Shares: {'AAPL': np.float64(130.0), 'META': np.float64(104.0), 'MSFT': np.float64(0.0)}\n",
      "Step: 2510, Balance: 141.38349151611328, Total Value: 69250.93259429932, Shares: {'AAPL': np.float64(164.0), 'META': np.float64(0.0), 'MSFT': np.float64(101.0)}\n",
      "Monte Carlo Agent Results:\n",
      "Step: 2515, Balance: 170.47834014892578, Total Value: 69169.39719390869, Shares: {'AAPL': np.float64(162.0), 'META': np.float64(0.0), 'MSFT': np.float64(102.0)}\n",
      "Monte Carlo Agent Final Portfolio Value: 57099.69\n"
     ]
    }
   ],
   "source": [
    "# Evaluating the Agent Performance\n",
    "monte_carlo_evaluation = monte_carlo_eval(monte_carlo_env_1, monte_carlo_q_table_1)"
   ]
  },
  {
   "cell_type": "code",
   "execution_count": 14,
   "metadata": {},
   "outputs": [
    {
     "name": "stdout",
     "output_type": "stream",
     "text": [
      "Percentage of positive profits: 58.11%\n"
     ]
    }
   ],
   "source": [
    "profit_list = monte_carlo_env_1.profits\n",
    "positive_profits = [profit for profit in profit_list if profit > 0]\n",
    "percentage_positive_profits = (len(positive_profits) / len(profit_list)) * 100 if profit_list else 0\n",
    "print(f\"Percentage of positive profits: {percentage_positive_profits:.2f}%\")"
   ]
  },
  {
   "cell_type": "code",
   "execution_count": 15,
   "metadata": {},
   "outputs": [
    {
     "data": {
      "text/plain": [
       "{'Initial Value': 10000,\n",
       " 'Final Value': 69261.69159698486,\n",
       " 'Total Return (%)': 592.6169159698486,\n",
       " 'Sharpe Ratio': 0.9076211165301964,\n",
       " 'Max Drawdown (%)': 44.850241984106475,\n",
       " 'Total Profits': 59268}"
      ]
     },
     "execution_count": 15,
     "metadata": {},
     "output_type": "execute_result"
    }
   ],
   "source": [
    "monte_carlo_env_1.get_summary_stats()"
   ]
  },
  {
   "cell_type": "code",
   "execution_count": 17,
   "metadata": {},
   "outputs": [
    {
     "data": {
      "image/png": "[encoded data removed]",
      "text/plain": [
       "<Figure size 1200x600 with 1 Axes>"
      ]
     },
     "metadata": {},
     "output_type": "display_data"
    }
   ],
   "source": [
    "monte_carlo_env_1.plot_portfolio_value()"
   ]
  },
  {
   "cell_type": "markdown",
   "metadata": {},
   "source": [
    "### Policy Gradient"
   ]
  },
  {
   "cell_type": "code",
   "execution_count": 5,
   "metadata": {},
   "outputs": [],
   "source": [
    "%load_ext autoreload\n",
    "%autoreload 2\n",
    "from policy_gradient import PolicyNetwork, PolicyGradientAgent, train_policy_gradient"
   ]
  },
  {
   "cell_type": "code",
   "execution_count": null,
   "metadata": {},
   "outputs": [],
   "source": [
    "policy_gradient_env_1 = StockTrainingEnv(tickers=['AAPL', 'META', 'MSFT'])"
   ]
  },
  {
   "cell_type": "code",
   "execution_count": 7,
   "metadata": {},
   "outputs": [],
   "source": [
    "# # Define dimensions for the agent\n",
    "state_dim_1 = policy_gradient_env_1.observation_space.shape[1]\n",
    "num_tickers_1 = len(policy_gradient_env_1.tickers)\n",
    "possible_trades_1 = policy_gradient_env_1.possible_trades"
   ]
  },
  {
   "cell_type": "code",
   "execution_count": 8,
   "metadata": {},
   "outputs": [],
   "source": [
    "# # Create agent\n",
    "agent_1 = PolicyGradientAgent(\n",
    "    state_dim=state_dim_1,\n",
    "    num_tickers=num_tickers_1,\n",
    "    possible_trades=possible_trades_1\n",
    ")"
   ]
  },
  {
   "cell_type": "code",
   "execution_count": null,
   "metadata": {},
   "outputs": [],
   "source": [
    "# # Train agent\n",
    "train_policy_gradient(policy_gradient_env_1, agent_1, episodes=1000, gamma=0.99, lr=0.001)"
   ]
  },
  {
   "cell_type": "code",
   "execution_count": null,
   "metadata": {},
   "outputs": [],
   "source": [
    "profit_list = policy_gradient_env_1.profits\n",
    "positive_profits = [profit for profit in profit_list if profit > 0]\n",
    "percentage_positive_profits = (len(positive_profits) / len(profit_list)) * 100 if profit_list else 0\n",
    "print(f\"Percentage of positive profits: {percentage_positive_profits:.2f}%\")"
   ]
  },
  {
   "cell_type": "code",
   "execution_count": null,
   "metadata": {},
   "outputs": [],
   "source": [
    "policy_gradient_env_1.get_summary_stats()"
   ]
  },
  {
   "cell_type": "code",
   "execution_count": null,
   "metadata": {},
   "outputs": [],
   "source": [
    "policy_gradient_env_1.plot_all_metrics()"
   ]
  },
  {
   "cell_type": "markdown",
   "metadata": {},
   "source": [
    "### A2C"
   ]
  },
  {
   "cell_type": "code",
   "execution_count": null,
   "metadata": {},
   "outputs": [],
   "source": [
    "%load_ext autoreload\n",
    "%autoreload 2\n",
    "from a2c_model import ActorCriticNetwork, A2CAgent, a2c_train, a2c_eval"
   ]
  },
  {
   "cell_type": "code",
   "execution_count": null,
   "metadata": {},
   "outputs": [],
   "source": [
    "a2c_env_1 = StockTrainingEnv(tickers=['AAPL', 'META', 'MSFT'])"
   ]
  },
  {
   "cell_type": "code",
   "execution_count": null,
   "metadata": {},
   "outputs": [],
   "source": [
    "# Create Agent and train\n",
    "a2c_agent_1 = A2CAgent(a2c_env_1)\n",
    "a2c_agent_train_1 = a2c_train(a2c_env_1, a2c_agent_1)"
   ]
  },
  {
   "cell_type": "code",
   "execution_count": null,
   "metadata": {},
   "outputs": [],
   "source": [
    "# Evaluate A2C agent\n",
    "a2c_agent_eval_1 = a2c_eval(a2c_env_1, a2c_agent_1)"
   ]
  },
  {
   "cell_type": "code",
   "execution_count": null,
   "metadata": {},
   "outputs": [],
   "source": [
    "# Calculate the percent of positive profits\n",
    "profit_list = a2c_env_1.profits\n",
    "positive_profits = [profit for profit in profit_list if profit > 0]\n",
    "percentage_positive_profits = (len(positive_profits) / len(profit_list)) * 100 if profit_list else 0\n",
    "print(f\"Percentage of positive profits: {percentage_positive_profits:.2f}%\")\n",
    "print(profit_list)"
   ]
  },
  {
   "cell_type": "code",
   "execution_count": null,
   "metadata": {},
   "outputs": [],
   "source": [
    "a2c_env_1.get_summary_stats()"
   ]
  },
  {
   "cell_type": "code",
   "execution_count": null,
   "metadata": {},
   "outputs": [],
   "source": [
    "# Visualize the Performance of the Environment\n",
    "a2c_env_1.plot_portfolio_value()"
   ]
  },
  {
   "cell_type": "markdown",
   "metadata": {},
   "source": [
    "## Testing all 3 algorithms with 5 stocks and adding 2 volatile stocks, 'NVDA', 'GME'"
   ]
  },
  {
   "cell_type": "markdown",
   "metadata": {},
   "source": [
    "### Monte Carlo"
   ]
  },
  {
   "cell_type": "code",
   "execution_count": null,
   "metadata": {},
   "outputs": [],
   "source": [
    "monte_carlo_env_2 = StockTrainingEnv(tickers=['AAPL', 'META', 'MSFT', 'NVDA', 'GME'])"
   ]
  },
  {
   "cell_type": "code",
   "execution_count": null,
   "metadata": {},
   "outputs": [],
   "source": [
    "monte_carlo_q_table_2 = monte_carlo_train(monte_carlo_env_2)"
   ]
  },
  {
   "cell_type": "code",
   "execution_count": null,
   "metadata": {},
   "outputs": [],
   "source": [
    "monte_carlo_evaluation_2 = monte_carlo_eval(monte_carlo_env_2), monte_carlo_q_table_2)"
   ]
  },
  {
   "cell_type": "code",
   "execution_count": null,
   "metadata": {},
   "outputs": [],
   "source": [
    "profit_list = monte_carlo_env_2.profits\n",
    "positive_profits = [profit for profit in profit_list if profit > 0]\n",
    "percentage_positive_profits = (len(positive_profits) / len(profit_list)) * 100 if profit_list else 0\n",
    "print(f\"Percentage of positive profits: {percentage_positive_profits:.2f}%\")"
   ]
  },
  {
   "cell_type": "code",
   "execution_count": null,
   "metadata": {},
   "outputs": [],
   "source": [
    "monte_carlo_env_2.get_summary_stats()"
   ]
  },
  {
   "cell_type": "code",
   "execution_count": null,
   "metadata": {},
   "outputs": [],
   "source": [
    "monte_carlo_env_2.plot_all_metrics()"
   ]
  },
  {
   "cell_type": "markdown",
   "metadata": {},
   "source": [
    "### Policy Gradient"
   ]
  },
  {
   "cell_type": "code",
   "execution_count": null,
   "metadata": {},
   "outputs": [],
   "source": [
    "policy_gradient_env_2 = StockTrainingEnv(tickers=['AAPL', 'META', 'MSFT', 'NVDA', 'GME'])"
   ]
  },
  {
   "cell_type": "code",
   "execution_count": null,
   "metadata": {},
   "outputs": [],
   "source": [
    "# # Define dimensions for the agent\n",
    "state_dim_2 = policy_gradient_env_2.observation_space.shape[1]\n",
    "num_tickers_2 = len(policy_gradient_env_2.tickers)\n",
    "possible_trades_2 = policy_gradient_env_2.possible_trades"
   ]
  },
  {
   "cell_type": "code",
   "execution_count": null,
   "metadata": {},
   "outputs": [],
   "source": [
    "# # Create agent\n",
    "agent_2 = PolicyGradientAgent(\n",
    "    state_dim=state_dim_2,\n",
    "    num_tickers=num_tickers_2,\n",
    "    possible_trades=possible_trades_2\n",
    ")"
   ]
  },
  {
   "cell_type": "code",
   "execution_count": null,
   "metadata": {},
   "outputs": [],
   "source": [
    "# # Train agent\n",
    "train_policy_gradient(policy_gradient_env_2, agent_2, episodes=1000, gamma=0.99, lr=0.001)"
   ]
  },
  {
   "cell_type": "code",
   "execution_count": null,
   "metadata": {},
   "outputs": [],
   "source": [
    "profit_list = policy_gradient_env_2.profits\n",
    "positive_profits = [profit for profit in profit_list if profit > 0]\n",
    "percentage_positive_profits = (len(positive_profits) / len(profit_list)) * 100 if profit_list else 0\n",
    "print(f\"Percentage of positive profits: {percentage_positive_profits:.2f}%\")"
   ]
  },
  {
   "cell_type": "code",
   "execution_count": null,
   "metadata": {},
   "outputs": [],
   "source": [
    "policy_gradient_env_2.get_summary_stats()"
   ]
  },
  {
   "cell_type": "code",
   "execution_count": null,
   "metadata": {},
   "outputs": [],
   "source": [
    "policy_gradient_env_2.plot_portfolio_value()"
   ]
  },
  {
   "cell_type": "markdown",
   "metadata": {},
   "source": [
    "### A2C"
   ]
  },
  {
   "cell_type": "code",
   "execution_count": null,
   "metadata": {},
   "outputs": [],
   "source": [
    "a2c_env_2 = StockTrainingEnv(tickers=['AAPL', 'META', 'MSFT', 'NVDA', 'GME'])"
   ]
  },
  {
   "cell_type": "code",
   "execution_count": null,
   "metadata": {},
   "outputs": [],
   "source": [
    "# Create Agent and train\n",
    "a2c_agent_2 = A2CAgent(a2c_env_2)\n",
    "a2c_agent_train_2 = a2c_train(a2c_env_2, a2c_agent_2)"
   ]
  },
  {
   "cell_type": "code",
   "execution_count": null,
   "metadata": {},
   "outputs": [],
   "source": [
    "# Evaluate A2C agent\n",
    "a2c_agent_eval_2 = a2c_eval(a2c_env_2, a2c_agent_2)"
   ]
  },
  {
   "cell_type": "code",
   "execution_count": null,
   "metadata": {},
   "outputs": [],
   "source": [
    "# Calculate the percent of positive profits\n",
    "profit_list = a2c_env_2.profits\n",
    "positive_profits = [profit for profit in profit_list if profit > 0]\n",
    "percentage_positive_profits = (len(positive_profits) / len(profit_list)) * 100 if profit_list else 0\n",
    "print(f\"Percentage of positive profits: {percentage_positive_profits:.2f}%\")\n",
    "print(profit_list)"
   ]
  },
  {
   "cell_type": "code",
   "execution_count": null,
   "metadata": {},
   "outputs": [],
   "source": [
    "monte_carlo_env_2.get_summary_stats()"
   ]
  },
  {
   "cell_type": "code",
   "execution_count": null,
   "metadata": {},
   "outputs": [],
   "source": [
    "monte_carlo_env_2.plot_all_metrics()"
   ]
  },
  {
   "cell_type": "markdown",
   "metadata": {},
   "source": [
    "## Comparison Between Stock Ticker Hyperparameter"
   ]
  },
  {
   "cell_type": "markdown",
   "metadata": {},
   "source": [
    "### Hyperparameter Testing\n",
    "\n",
    "Maybe flow of Results section can be we first do 3 stocks for each that are really stable stocks, then we do 5 stocks with some more variable stocks like GME and NVDA, then we compare the win rate, sharpes ratio, and variability in portfolio value on each\n",
    "\n",
    "we can have bar plot directly compairing the win rate with 3 stocks on left 5 on right\n",
    "\n",
    "in discussion session maybe focus on if the different models are super different and if they are not maybe say the best one in that case would be the one that is least computationally expensive, etc, unless the value of the portfolios are way different"
   ]
  },
  {
   "attachments": {},
   "cell_type": "markdown",
   "metadata": {},
   "source": [
    "# Discussion\n",
    "\n",
    "### Interpreting the result\n",
    "\n",
    "OK, you've given us quite a bit of tech informaiton above, now its time to tell us what to pay attention to in all that.  Think clearly about your results, decide on one main point and 2-4 secondary points you want us to understand. Highlight HOW your results support those points.  You probably want 2-5 sentences per point.\n",
    "\n",
    "\n",
    "### Limitations\n",
    "\n",
    "Are there any problems with the work?  For instance would more data change the nature of the problem? Would it be good to explore more hyperparams than you had time for?   \n",
    "\n",
    "\n",
    "### Future work\n",
    "Looking at the limitations and/or the toughest parts of the problem and/or the situations where the algorithm(s) did the worst... is there something you'd like to try to make these better.\n",
    "\n",
    "### Ethics & Privacy\n",
    "\n",
    "If your project has obvious potential concerns with ethics or data privacy discuss that here.  Almost every ML project put into production can have ethical implications if you use your imagination. Use your imagination.\n",
    "\n",
    "Even if you can't come up with an obvious ethical concern that should be addressed, you should know that a large number of ML projects that go into producation have unintended consequences and ethical problems once in production. How will your team address these issues?\n",
    "\n",
    "Consider a tool to help you address the potential issues such as https://deon.drivendata.org\n",
    "\n",
    "### Conclusion\n",
    "\n",
    "Reiterate your main point and in just a few sentences tell us how your results support it. Mention how this work would fit in the background/context of other work in this field if you can. Suggest directions for future work if you want to."
   ]
  },
  {
   "cell_type": "markdown",
   "metadata": {},
   "source": [
    "# Footnotes\n",
    "<a name=\"lorenznote\"></a>1.[^](#lorenz): Lorenz, T. (9 Dec 2021) Birds Aren’t Real, or Are They? Inside a Gen Z Conspiracy Theory. *The New York Times*. https://www.nytimes.com/2021/12/09/technology/birds-arent-real-gen-z-misinformation.html<br> \n",
    "<a name=\"admonishnote\"></a>2.[^](#admonish): Also refs should be important to the background, not some randomly chosen vaguely related stuff. Include a web link if possible in refs as above.<br>\n",
    "<a name=\"sotanote\"></a>3.[^](#sota): Perhaps the current state of the art solution such as you see on [Papers with code](https://paperswithcode.com/sota). Or maybe not SOTA, but rather a standard textbook/Kaggle solution to this kind of problem\n",
    "\n",
    "# References\n",
    "\n",
    "### 1. Deep Reinforcement Learning for Automated Stock Trading  \n",
    "OpenFin Engineering, Columbia University. *Deep Reinforcement Learning for Automated Stock Trading: Framework, Design, and Empirical Analysis*. Available at: [https://openfin.engineering.columbia.edu/sites/default/files/content/publications/ensemble.pdf](https://openfin.engineering.columbia.edu/sites/default/files/content/publications/ensemble.pdf).   \n",
    "\n",
    "### 2. An Application of Deep Reinforcement Learning to Algorithmic Trading  \n",
    "Deng, Yunlong, et al. *An Application of Deep Reinforcement Learning to Algorithmic Trading*. arXiv, 2020. Available at: [https://arxiv.org/abs/2004.06627](https://arxiv.org/abs/2004.06627).  \n"
   ]
  },
  {
   "cell_type": "markdown",
   "metadata": {},
   "source": []
  }
 ],
 "metadata": {
  "kernelspec": {
   "display_name": "Python 3",
   "language": "python",
   "name": "python3"
  },
  "language_info": {
   "codemirror_mode": {
    "name": "ipython",
    "version": 3
   },
   "file_extension": ".py",
   "mimetype": "text/x-python",
   "name": "python",
   "nbconvert_exporter": "python",
   "pygments_lexer": "ipython3",
   "version": "3.12.7"
  },
  "vscode": {
   "interpreter": {
    "hash": "40d3a090f54c6569ab1632332b64b2c03c39dcf918b08424e98f38b5ae0af88f"
   }
  }
 },
 "nbformat": 4,
 "nbformat_minor": 2
}
