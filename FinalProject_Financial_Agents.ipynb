{
 "cells": [
  {
   "cell_type": "markdown",
   "metadata": {},
   "source": [
    "# COGS 118B - Final Project"
   ]
  },
  {
   "cell_type": "markdown",
   "metadata": {},
   "source": [
    "# Exploring Different Reinforcement Learning Algorithms for Stock Trading to Optimize Profitability\n",
    "\n",
    "## Group members\n",
    "\n",
    "- Ryan Chen\n",
    "- Nicholas Gao\n",
    "- Matthew Miyagishima"
   ]
  },
  {
   "cell_type": "markdown",
   "metadata": {},
   "source": [
    "# Abstract \n",
    "\n",
    "Stock trading is full of unpredictability and volatility. Without substantial understanding and experience in trading stocks, it is difficult for a person to trade actively and profit off of stocks. However, mathematical models and intelligent software can do a much better job of learning patterns and capitalizing on them. We explore the performance of value-based and policy-based reinforcement learning algorithms on trading stock data by comparing profits earned by Monte Carlo Q-learning, Monte Carlo policy gradient, and Advantage Actor-Critic on AAPL, TSLA, META, NVDA, and GME stocks from 2014 to 2024."
   ]
  },
  {
   "attachments": {},
   "cell_type": "markdown",
   "metadata": {},
   "source": [
    "# Background\n",
    "\n",
    "The stock market is a highly dynamic environment influenced by various factors, making it challenging to develop reliable trading strategies. Traditional rule-based approaches are often too rigid and fail to adapt to changing market conditions. Recently, machine learning techniques, particularly **Reinforcement Learning (RL)**, have become a popular tool for financial applications due to their ability to learn optimal strategies through direct interaction with the environment.\n",
    "\n",
    "In this project, we aim to build a **stock market trading agent** that leverages **Markov Decision Processes (MDPs)** as the underlying framework and applies **Q-Learning** and **Monte Carlo methods** to learn an optimal trading policy. The agent will use historical stock price data to simulate trading decisions and learn when to buy, sell, or hold a stock to maximize long-term profitability. We will focus on backtesting the agent’s strategy on historical data to assess its performance in a simulated environment.\n"
   ]
  },
  {
   "cell_type": "markdown",
   "metadata": {},
   "source": [
    "# Problem Statement\n",
    "\n",
    "The objective of this project is to design a stock market trading agent that interacts with historical stock data and learns to optimize its trading strategy using **Markov Decision Processes (MDPs)**. The problem can be modeled as an MDP with the following components:\n",
    "\n",
    "- **State Space:** The state provides information on stock prices over the past `window_size` days.\n",
    "- **Action Space:** The agent can choose one of three actions at each time step:\n",
    "  - **Buy:** Purchase some quantity of the stock.\n",
    "  - **Sell:** Sell some quantity of held stocks.\n",
    "  - **Hold:** Take no action and maintain the current position.\n",
    "- **Reward Function:** The reward function rewards the agent for making profitable actions on each stock:\n",
    "  - **Buy:** +5 reward for a valid purchase (based on agent's balance), +2 if agent overestimates number of stocks it can purchase, -5 reward if agent does not have enough money to even purchase one stock\n",
    "  - **Sell:** +5 for a sell that increases the agent's total portfolio value, -2 if agent loses porfolio value after selling, and -5 for an invalid sell action\n",
    "  - **Hold:** No reward or penalty\n",
    "  - **Bonus:** Percentage change in portfolio value * 10\n",
    "\n",
    "We will train the agent using three reinforcement learning approaches:\n",
    "1. **Monte Carlo Q-Learning** a model-free method that learns the optimal action at each state.\n",
    "2. **Monte Carlo Policy Gradient (REINFORCE)** a policy-based on-policy method that simulates entire processes and updates the policy according to the final reward.\n",
    "3. **A2C** an improvement on REINFORCE that introduces an actor-critic architecture where the actor learns the policy while the critic estimates the value function.\n",
    "\n",
    "We will evaluate the performance of each agent by looking at the final portfoliio value at the end of the time period. At the same time, we will be comparing their performance against that of the S&P500 across the same period."
   ]
  },
  {
   "cell_type": "markdown",
   "metadata": {},
   "source": [
    "# Data\n",
    "\n",
    "We will use historical stock price data from the following sources:\n",
    "\n",
    "1. **Yahoo Finance API** ([https://finance.yahoo.com](https://finance.yahoo.com))\n",
    "   - Provides daily and intraday stock data.\n",
    "   - Variables: `Date`, `Close`, `Split`.\n",
    "\n",
    "2. **S&P 500 Historical Data**\n",
    "   - Used as a benchmark for evaluating the trading agent’s performance.\n",
    "\n",
    "### Data Preprocessing:\n",
    "The Yahoo Finance API is a very developed API and has full data over the time period we are considering for the 5 chosen stocks. Thus no data preprocessing is required before using it to train our agents."
   ]
  },
  {
   "cell_type": "markdown",
   "metadata": {},
   "source": [
    "# Proposed Solution\n",
    "\n",
    "We propose three different solutions to the stock trading problem. Each of the solution algorithms will train an agent to interact with the environment through buying, selling, and holding on to stocks. These agents will be trained on data on AAPL, TSLA, META, NVDA, and GME stocks from 2014 to 2024 to optimize their profits.\n",
    "\n",
    "**Monte Carlo Q-Learning**\n",
    "\n",
    "The Monte Carlo Q-Learning algorithm is a value-based on-policy algorithm. In each episode, an action is selected using an epsilon-greedy selection at each state. The entire 10-year stock trading experience is simulated while the state, action, and reward are tracked. At the end of an episode, the tracked states, actions, and rewards are used to update the Q-table at each of those states to favor certain actions over others. The process continues until the agent learns the task well.\n",
    "\n",
    "Below is the pseudo-code for this algorithm:\n",
    "```\n",
    "for each episode:\n",
    "    initialize the environment\n",
    "    observe the initial state s\n",
    "    episode = []\n",
    "\n",
    "    while episode is not done:\n",
    "        choose action a using epsilon-greedy policy from Q(s, *)\n",
    "        take action a, record reward r and next state s'\n",
    "        store (s, a, r) in episode\n",
    "        s = s'\n",
    "    \n",
    "    G = 0\n",
    "    for each step (s, a, r) in episode, in reverse order:\n",
    "        G = gamma * G + r\n",
    "        if (s, a) is the first occurence in the episode:\n",
    "            append G to returns(s, a)\n",
    "            Q(s, a) = average(returns(s, a))\n",
    "return Q\n",
    "```\n",
    "\n",
    "**Monte Carlo Policy Gradient**\n",
    "\n",
    "The Monte Carlo Policy Gradient, or REINFORCE, algorithm is a policy-based on-policy training algorithm. It is similar to MC Q-Learning in that the agent simulates entire episodes of the task based on its policy before updating. However, this algorithm utilizes a neural network to represent its policy, and action selection is over a distribution rather than an epsilon-greedy selection.\n",
    "\n",
    "Below is the pseudo-code for this algorithm:\n",
    "```\n",
    "for each episode:\n",
    "    initialize the environment\n",
    "    observe the initial state s\n",
    "    episode = []\n",
    "\n",
    "    while episode is not done:\n",
    "        get distribution from a forward pass\n",
    "        choose action a using distribution\n",
    "        take action a, record reward r and next state s'\n",
    "        store (s, a, r) in episode\n",
    "        s = s'\n",
    "    \n",
    "    G = 0\n",
    "    for each step (s, a, r) in episode, in reverse order:\n",
    "        G = gamma * G + r\n",
    "        theta = theta + alpha * G * gradient(log(policy))\n",
    "```\n",
    "\n",
    "**A2C**\n",
    "\n",
    "The Advantage Actor-Critic algorithm is a policy-based on-policy training algorithm. It combines both policy gradient and value function estimation where the actor learns the policy while the critic learns to estimate the value of states. This algorithm achieves a more stable learning compared to REINFORCE due to reduced variance in the gradient estimates since it uses advantage for gradient calculations.\n",
    "\n",
    "Below is the pseudo-code for this algorithm:\n",
    "```\n",
    "for each episode:\n",
    "    initialize the environment\n",
    "    observe the initial state s\n",
    "    episode = []\n",
    "\n",
    "    while not done:\n",
    "        get action distribution from actor\n",
    "        choose action a using distribution\n",
    "        take action a, record reward r and next state s'\n",
    "\n",
    "        estimate value v of current state\n",
    "        get value of next state v'\n",
    "        set td target = r + gamma * v'\n",
    "\n",
    "        compute advantage A = td target - v\n",
    "\n",
    "        calculate squared loss for critic and update the critic\n",
    "        update the actor: theta = theta + alpha * gradient(log(policy) * A)\n",
    "\n",
    "        s = s'\n",
    "```"
   ]
  },
  {
   "cell_type": "markdown",
   "metadata": {},
   "source": [
    "# Evaluation Metrics\n",
    "\n",
    "The main evaluation metric that we will use will be how much the agent grows/shrinks their portfolio percentage-wise over the test period. We will do so by giving the agent a portfolio to start off with at the beginning of the test period and evaluate the portfolio's worth daily throughout testing to measure how well the agent is doing. We believe that this is a good evaluation metric as the main goal of the agent is to maximize gains through buying, holding, and selling stocks.\n",
    "\n",
    "A mathematical representation of this metric would be\n",
    "\n",
    "$G_T = \\frac{V_T - V_0}{V_0}$\n",
    "\n",
    "Where\n",
    "- $G_T$ is the gain/loss on day T\n",
    "- $V_T$ is the value of the portfolio on day T\n",
    "- $V_0$ is the value of the portfolio i the beginning"
   ]
  },
  {
   "attachments": {},
   "cell_type": "markdown",
   "metadata": {},
   "source": [
    "# Results"
   ]
  },
  {
   "cell_type": "code",
   "execution_count": 1,
   "metadata": {},
   "outputs": [],
   "source": [
    "%load_ext autoreload\n",
    "%autoreload 2"
   ]
  },
  {
   "cell_type": "markdown",
   "metadata": {},
   "source": [
    "### Monte Carlo Simulations"
   ]
  },
  {
   "cell_type": "code",
   "execution_count": 1,
   "metadata": {},
   "outputs": [],
   "source": [
    "from training_env import StockTrainingEnv\n",
    "from monte_carlo import monte_carlo_train, monte_carlo_eval"
   ]
  },
  {
   "cell_type": "code",
   "execution_count": 2,
   "metadata": {},
   "outputs": [
    {
     "name": "stderr",
     "output_type": "stream",
     "text": [
      "[*********************100%***********************]  5 of 5 completed\n"
     ]
    }
   ],
   "source": [
    "# Set Up Stock Trading Environment\n",
    "monte_carlo_env = StockTrainingEnv(tickers=['AAPL', 'TSLA', 'META', 'NVDA', 'GME'])"
   ]
  },
  {
   "cell_type": "code",
   "execution_count": 3,
   "metadata": {},
   "outputs": [
    {
     "name": "stderr",
     "output_type": "stream",
     "text": [
      "Monte Carlo Training: 100%|██████████| 1000/1000 [05:04<00:00,  3.28it/s]"
     ]
    },
    {
     "name": "stdout",
     "output_type": "stream",
     "text": [
      "Monte Carlo training complete\n"
     ]
    },
    {
     "name": "stderr",
     "output_type": "stream",
     "text": [
      "\n"
     ]
    }
   ],
   "source": [
    "# Train the Monte Carlo Agent\n",
    "monte_carlo_q_table = monte_carlo_train(monte_carlo_env)"
   ]
  },
  {
   "cell_type": "code",
   "execution_count": 4,
   "metadata": {},
   "outputs": [
    {
     "name": "stdout",
     "output_type": "stream",
     "text": [
      "Step: 50, Balance: 57.382086753845215, Total Value: 10114.124408841133, Shares: {'AAPL': np.int64(23), 'TSLA': np.int64(159), 'META': np.float64(96.0), 'NVDA': np.int64(122), 'GME': np.int64(80)}\n",
      "Step: 70, Balance: 1766.4834882318974, Total Value: 8852.336543560028, Shares: {'AAPL': np.float64(21.0), 'TSLA': np.float64(503.0), 'META': np.float64(0.0), 'NVDA': np.float64(231.0), 'GME': np.float64(0.0)}\n",
      "Step: 90, Balance: 3.929156392812729, Total Value: 8532.715038627386, Shares: {'AAPL': np.float64(0.0), 'TSLA': np.float64(570.0), 'META': np.float64(9.0), 'NVDA': np.float64(40.0), 'GME': np.float64(109.0)}\n",
      "Step: 110, Balance: 2056.2147274315357, Total Value: 9265.572017133236, Shares: {'AAPL': np.float64(53.0), 'TSLA': np.float64(443.0), 'META': np.float64(0.0), 'NVDA': np.float64(161.0), 'GME': np.float64(0.0)}\n",
      "Step: 130, Balance: 193.9481551349163, Total Value: 9739.684351176023, Shares: {'AAPL': np.float64(94.0), 'TSLA': np.float64(341.0), 'META': np.float64(32.0), 'NVDA': np.float64(290.0), 'GME': np.float64(51.0)}\n",
      "Step: 150, Balance: 411.7360996901989, Total Value: 10708.976296424866, Shares: {'AAPL': np.float64(32.0), 'TSLA': np.float64(365.0), 'META': np.float64(29.0), 'NVDA': np.float64(297.0), 'GME': np.float64(167.0)}\n",
      "Step: 170, Balance: 2574.195391088724, Total Value: 11738.211750775576, Shares: {'AAPL': np.float64(25.0), 'TSLA': np.float64(324.0), 'META': np.float64(0.0), 'NVDA': np.float64(300.0), 'GME': np.float64(297.0)}\n",
      "Step: 190, Balance: 6176.099317908287, Total Value: 11288.237288355827, Shares: {'AAPL': np.float64(0.0), 'TSLA': np.float64(69.0), 'META': np.float64(25.0), 'NVDA': np.float64(432.0), 'GME': np.float64(244.0)}\n",
      "Step: 210, Balance: 0.45763522386550903, Total Value: 10865.819789588451, Shares: {'AAPL': np.float64(8.0), 'TSLA': np.float64(534.0), 'META': np.float64(26.0), 'NVDA': np.float64(276.0), 'GME': np.float64(0.0)}\n",
      "Step: 230, Balance: 134.10417091846466, Total Value: 10611.150506973267, Shares: {'AAPL': np.float64(48.0), 'TSLA': np.float64(371.0), 'META': np.float64(39.0), 'NVDA': np.float64(494.0), 'GME': np.float64(54.0)}\n",
      "Step: 250, Balance: 2531.951449096203, Total Value: 10301.793662667274, Shares: {'AAPL': np.float64(0.0), 'TSLA': np.float64(294.0), 'META': np.float64(0.0), 'NVDA': np.float64(327.0), 'GME': np.float64(517.0)}\n",
      "Step: 270, Balance: 70.75956824421883, Total Value: 10091.016454517841, Shares: {'AAPL': np.float64(107.0), 'TSLA': np.float64(175.0), 'META': np.float64(60.0), 'NVDA': np.float64(291.0), 'GME': np.float64(0.0)}\n",
      "Step: 290, Balance: 2816.8889911472797, Total Value: 10145.164681702852, Shares: {'AAPL': np.float64(0.0), 'TSLA': np.float64(238.0), 'META': np.float64(50.0), 'NVDA': np.float64(0.0), 'GME': np.float64(25.0)}\n",
      "Step: 310, Balance: 3129.7461586892605, Total Value: 10146.263798683882, Shares: {'AAPL': np.float64(110.0), 'TSLA': np.float64(292.0), 'META': np.float64(0.0), 'NVDA': np.float64(25.0), 'GME': np.float64(52.0)}\n",
      "Step: 330, Balance: 1505.6900581419468, Total Value: 11519.014314264059, Shares: {'AAPL': np.float64(125.0), 'TSLA': np.float64(396.0), 'META': np.float64(0.0), 'NVDA': np.float64(369.0), 'GME': np.float64(0.0)}\n",
      "Step: 350, Balance: 366.6801218688488, Total Value: 11811.99022206664, Shares: {'AAPL': np.float64(151.0), 'TSLA': np.float64(365.0), 'META': np.float64(5.0), 'NVDA': np.float64(117.0), 'GME': np.float64(77.0)}\n",
      "Step: 370, Balance: 2402.44950774312, Total Value: 12619.90799048543, Shares: {'AAPL': np.float64(20.0), 'TSLA': np.float64(495.0), 'META': np.float64(0.0), 'NVDA': np.float64(0.0), 'GME': np.float64(97.0)}\n",
      "Step: 390, Balance: 6.133999228477478, Total Value: 12438.85593047738, Shares: {'AAPL': np.float64(147.0), 'TSLA': np.float64(362.0), 'META': np.float64(18.0), 'NVDA': np.float64(45.0), 'GME': np.float64(9.0)}\n",
      "Step: 410, Balance: 3389.4241405427456, Total Value: 11780.552037149668, Shares: {'AAPL': np.float64(52.0), 'TSLA': np.float64(0.0), 'META': np.float64(73.0), 'NVDA': np.float64(197.0), 'GME': np.float64(1.0)}\n",
      "Step: 430, Balance: 6006.8100408017635, Total Value: 11505.724236816168, Shares: {'AAPL': np.float64(169.0), 'TSLA': np.float64(45.0), 'META': np.float64(4.0), 'NVDA': np.float64(0.0), 'GME': np.float64(0.0)}\n",
      "Step: 450, Balance: 321.8026771247387, Total Value: 11254.824239701033, Shares: {'AAPL': np.float64(106.0), 'TSLA': np.float64(33.0), 'META': np.float64(80.0), 'NVDA': np.float64(0.0), 'GME': np.float64(16.0)}\n",
      "Step: 470, Balance: 1403.3555529415607, Total Value: 11476.276749879122, Shares: {'AAPL': np.float64(36.0), 'TSLA': np.float64(201.0), 'META': np.float64(50.0), 'NVDA': np.float64(0.0), 'GME': np.float64(106.0)}\n",
      "Step: 490, Balance: 1689.4113885462284, Total Value: 10768.560059934855, Shares: {'AAPL': np.float64(0.0), 'TSLA': np.float64(0.0), 'META': np.float64(72.0), 'NVDA': np.float64(250.0), 'GME': np.float64(270.0)}\n",
      "Step: 510, Balance: 2.274932771921158, Total Value: 10317.78689172864, Shares: {'AAPL': np.float64(250.0), 'TSLA': np.float64(37.0), 'META': np.float64(31.0), 'NVDA': np.float64(10.0), 'GME': np.float64(199.0)}\n",
      "Step: 530, Balance: 1801.038487702608, Total Value: 9977.624975472689, Shares: {'AAPL': np.float64(62.0), 'TSLA': np.float64(81.0), 'META': np.float64(60.0), 'NVDA': np.float64(64.0), 'GME': np.float64(0.0)}\n",
      "Step: 550, Balance: 6763.129130989313, Total Value: 10755.244080215693, Shares: {'AAPL': np.float64(8.0), 'TSLA': np.float64(200.0), 'META': np.float64(1.0), 'NVDA': np.float64(27.0), 'GME': np.float64(159.0)}\n",
      "Step: 570, Balance: 17.86755546927452, Total Value: 11613.047415345907, Shares: {'AAPL': np.float64(50.0), 'TSLA': np.float64(342.0), 'META': np.float64(41.0), 'NVDA': np.float64(164.0), 'GME': np.float64(0.0)}\n",
      "Step: 590, Balance: 7337.709407657385, Total Value: 10993.44234547019, Shares: {'AAPL': np.float64(130.0), 'TSLA': np.float64(50.0), 'META': np.float64(0.0), 'NVDA': np.float64(209.0), 'GME': np.float64(0.0)}\n",
      "Step: 610, Balance: 6635.415896266699, Total Value: 11087.26992353797, Shares: {'AAPL': np.float64(158.0), 'TSLA': np.float64(0.0), 'META': np.float64(7.0), 'NVDA': np.float64(51.0), 'GME': np.float64(0.0)}\n",
      "Step: 630, Balance: 2435.3873448073864, Total Value: 10885.223922222853, Shares: {'AAPL': np.float64(122.0), 'TSLA': np.float64(154.0), 'META': np.float64(25.0), 'NVDA': np.float64(264.0), 'GME': np.float64(87.0)}\n",
      "Step: 650, Balance: 1.1084260642528534, Total Value: 11458.093081921339, Shares: {'AAPL': np.float64(101.0), 'TSLA': np.float64(111.0), 'META': np.float64(57.0), 'NVDA': np.float64(245.0), 'GME': np.float64(7.0)}\n",
      "Step: 670, Balance: 10026.266182631254, Total Value: 11402.20996209979, Shares: {'AAPL': np.float64(16.0), 'TSLA': np.float64(0.0), 'META': np.float64(0.0), 'NVDA': np.float64(0.0), 'GME': np.float64(175.0)}\n",
      "Step: 690, Balance: 302.8339637219906, Total Value: 11439.355140537024, Shares: {'AAPL': np.float64(0.0), 'TSLA': np.float64(14.0), 'META': np.float64(71.0), 'NVDA': np.float64(0.0), 'GME': np.float64(329.0)}\n",
      "Step: 710, Balance: 0.8348101079463959, Total Value: 11361.132294863462, Shares: {'AAPL': np.float64(50.0), 'TSLA': np.float64(27.0), 'META': np.float64(67.0), 'NVDA': np.float64(165.0), 'GME': np.float64(128.0)}\n",
      "Step: 730, Balance: 10056.78163537383, Total Value: 10579.100655168295, Shares: {'AAPL': np.float64(0.0), 'TSLA': np.float64(0.0), 'META': np.float64(0.0), 'NVDA': np.float64(158.0), 'GME': np.float64(30.0)}\n",
      "Step: 750, Balance: 577.3168574273586, Total Value: 10822.996196120977, Shares: {'AAPL': np.float64(326.0), 'TSLA': np.float64(0.0), 'META': np.float64(0.0), 'NVDA': np.float64(33.0), 'GME': np.float64(273.0)}\n",
      "Step: 770, Balance: 488.71926698088646, Total Value: 11172.685596555471, Shares: {'AAPL': np.float64(68.0), 'TSLA': np.float64(0.0), 'META': np.float64(61.0), 'NVDA': np.float64(162.0), 'GME': np.float64(106.0)}\n",
      "Step: 790, Balance: 1062.531604140997, Total Value: 11738.843036025763, Shares: {'AAPL': np.float64(186.0), 'TSLA': np.float64(26.0), 'META': np.float64(29.0), 'NVDA': np.float64(128.0), 'GME': np.float64(0.0)}\n",
      "Step: 810, Balance: 5724.728173583746, Total Value: 11694.39242348075, Shares: {'AAPL': np.float64(0.0), 'TSLA': np.float64(306.0), 'META': np.float64(0.0), 'NVDA': np.float64(148.0), 'GME': np.float64(75.0)}\n",
      "Step: 830, Balance: 2289.5285216271877, Total Value: 12596.923995345831, Shares: {'AAPL': np.float64(50.0), 'TSLA': np.float64(150.0), 'META': np.float64(31.0), 'NVDA': np.float64(245.0), 'GME': np.float64(121.0)}\n",
      "Step: 850, Balance: 276.32055029273033, Total Value: 13389.804521888494, Shares: {'AAPL': np.float64(105.0), 'TSLA': np.float64(25.0), 'META': np.float64(47.0), 'NVDA': np.float64(320.0), 'GME': np.float64(183.0)}\n",
      "Step: 870, Balance: 11599.323237985373, Total Value: 13227.069794028997, Shares: {'AAPL': np.float64(0.0), 'TSLA': np.float64(2.0), 'META': np.float64(1.0), 'NVDA': np.float64(109.0), 'GME': np.float64(236.0)}\n",
      "Step: 890, Balance: 7578.892814964056, Total Value: 13625.890219062567, Shares: {'AAPL': np.float64(25.0), 'TSLA': np.float64(0.0), 'META': np.float64(30.0), 'NVDA': np.float64(100.0), 'GME': np.float64(0.0)}\n",
      "Step: 910, Balance: 3.5516925752162933, Total Value: 14478.298966497183, Shares: {'AAPL': np.float64(115.0), 'TSLA': np.float64(255.0), 'META': np.float64(9.0), 'NVDA': np.float64(465.0), 'GME': np.float64(114.0)}\n",
      "Step: 930, Balance: 1399.2679427564144, Total Value: 14502.519588798285, Shares: {'AAPL': np.float64(0.0), 'TSLA': np.float64(441.0), 'META': np.float64(0.0), 'NVDA': np.float64(482.0), 'GME': np.float64(100.0)}\n",
      "Step: 950, Balance: 23.961956351995468, Total Value: 14402.284422248602, Shares: {'AAPL': np.float64(1.0), 'TSLA': np.float64(478.0), 'META': np.float64(4.0), 'NVDA': np.float64(479.0), 'GME': np.float64(21.0)}\n",
      "Step: 970, Balance: 3.3639326989650726, Total Value: 13652.805548757315, Shares: {'AAPL': np.float64(78.0), 'TSLA': np.float64(376.0), 'META': np.float64(10.0), 'NVDA': np.float64(136.0), 'GME': np.float64(76.0)}\n",
      "Step: 990, Balance: 94.84203037619591, Total Value: 13837.259678691626, Shares: {'AAPL': np.float64(109.0), 'TSLA': np.float64(305.0), 'META': np.float64(15.0), 'NVDA': np.float64(0.0), 'GME': np.float64(100.0)}\n",
      "Step: 1010, Balance: 400.8875692784786, Total Value: 14157.256523936987, Shares: {'AAPL': np.float64(110.0), 'TSLA': np.float64(322.0), 'META': np.float64(8.0), 'NVDA': np.float64(74.0), 'GME': np.float64(136.0)}\n",
      "Step: 1030, Balance: 124.38264593482018, Total Value: 13777.507271140814, Shares: {'AAPL': np.float64(15.0), 'TSLA': np.float64(136.0), 'META': np.float64(50.0), 'NVDA': np.float64(17.0), 'GME': np.float64(284.0)}\n",
      "Step: 1050, Balance: 4168.937349885702, Total Value: 13892.730286210775, Shares: {'AAPL': np.float64(96.0), 'TSLA': np.float64(164.0), 'META': np.float64(0.0), 'NVDA': np.float64(139.0), 'GME': np.float64(362.0)}\n",
      "Step: 1070, Balance: 12.17517837882042, Total Value: 12147.22546800971, Shares: {'AAPL': np.float64(10.0), 'TSLA': np.float64(311.0), 'META': np.float64(18.0), 'NVDA': np.float64(170.0), 'GME': np.float64(687.0)}\n",
      "Step: 1090, Balance: 939.5114556252956, Total Value: 12941.513820499182, Shares: {'AAPL': np.float64(108.0), 'TSLA': np.float64(183.0), 'META': np.float64(7.0), 'NVDA': np.float64(32.0), 'GME': np.float64(805.0)}\n",
      "Step: 1110, Balance: 407.14276799559593, Total Value: 13917.799748033285, Shares: {'AAPL': np.float64(0.0), 'TSLA': np.float64(0.0), 'META': np.float64(58.0), 'NVDA': np.float64(0.0), 'GME': np.float64(826.0)}\n",
      "Step: 1130, Balance: 151.00212344527245, Total Value: 14319.756913274527, Shares: {'AAPL': np.float64(26.0), 'TSLA': np.float64(1.0), 'META': np.float64(56.0), 'NVDA': np.float64(179.0), 'GME': np.float64(292.0)}\n",
      "Step: 1150, Balance: 209.63329538702965, Total Value: 13271.199321120977, Shares: {'AAPL': np.float64(9.0), 'TSLA': np.float64(30.0), 'META': np.float64(59.0), 'NVDA': np.float64(158.0), 'GME': np.float64(236.0)}\n",
      "Step: 1170, Balance: 7544.687243551016, Total Value: 12849.806305497885, Shares: {'AAPL': np.float64(5.0), 'TSLA': np.float64(32.0), 'META': np.float64(10.0), 'NVDA': np.float64(372.0), 'GME': np.float64(30.0)}\n",
      "Step: 1190, Balance: 211.9957638680935, Total Value: 11689.268238633871, Shares: {'AAPL': np.float64(171.0), 'TSLA': np.float64(0.0), 'META': np.float64(3.0), 'NVDA': np.float64(282.0), 'GME': np.float64(42.0)}\n",
      "Step: 1210, Balance: 4949.386361211538, Total Value: 11185.967398256063, Shares: {'AAPL': np.float64(25.0), 'TSLA': np.float64(160.0), 'META': np.float64(10.0), 'NVDA': np.float64(105.0), 'GME': np.float64(0.0)}\n",
      "Step: 1230, Balance: 1.1537669599056244, Total Value: 10593.333220094442, Shares: {'AAPL': np.float64(9.0), 'TSLA': np.float64(10.0), 'META': np.float64(76.0), 'NVDA': np.float64(1.0), 'GME': np.float64(1.0)}\n",
      "Step: 1250, Balance: 66.28226122260094, Total Value: 10011.3531242311, Shares: {'AAPL': np.float64(0.0), 'TSLA': np.float64(326.0), 'META': np.float64(18.0), 'NVDA': np.float64(13.0), 'GME': np.float64(91.0)}\n",
      "Step: 1270, Balance: 1256.595909923315, Total Value: 9793.293400615454, Shares: {'AAPL': np.float64(49.0), 'TSLA': np.float64(308.0), 'META': np.float64(0.0), 'NVDA': np.float64(112.0), 'GME': np.float64(16.0)}\n",
      "Step: 1290, Balance: 3.1679325997829437, Total Value: 9602.980410903692, Shares: {'AAPL': np.float64(11.0), 'TSLA': np.float64(358.0), 'META': np.float64(5.0), 'NVDA': np.float64(119.0), 'GME': np.float64(216.0)}\n",
      "Step: 1310, Balance: 2929.4340744912624, Total Value: 8916.246105521917, Shares: {'AAPL': np.float64(0.0), 'TSLA': np.float64(296.0), 'META': np.float64(1.0), 'NVDA': np.float64(125.0), 'GME': np.float64(1.0)}\n",
      "Step: 1330, Balance: 3619.836987107992, Total Value: 9165.222340196371, Shares: {'AAPL': np.float64(0.0), 'TSLA': np.float64(265.0), 'META': np.float64(0.0), 'NVDA': np.float64(128.0), 'GME': np.float64(52.0)}\n",
      "Step: 1350, Balance: 1708.7849751412868, Total Value: 8118.118974775076, Shares: {'AAPL': np.float64(81.0), 'TSLA': np.float64(70.0), 'META': np.float64(0.0), 'NVDA': np.float64(406.0), 'GME': np.float64(0.0)}\n",
      "Step: 1370, Balance: 0.5340492427349091, Total Value: 7512.731895893812, Shares: {'AAPL': np.float64(101.0), 'TSLA': np.float64(2.0), 'META': np.float64(0.0), 'NVDA': np.float64(710.0), 'GME': np.float64(107.0)}\n",
      "Step: 1390, Balance: 1762.2395534217358, Total Value: 8110.707733124495, Shares: {'AAPL': np.float64(38.0), 'TSLA': np.float64(73.0), 'META': np.float64(0.0), 'NVDA': np.float64(737.0), 'GME': np.float64(186.0)}\n",
      "Step: 1410, Balance: 955.2765131294727, Total Value: 7827.649501353502, Shares: {'AAPL': np.float64(0.0), 'TSLA': np.float64(53.0), 'META': np.float64(20.0), 'NVDA': np.float64(571.0), 'GME': np.float64(128.0)}\n",
      "Step: 1430, Balance: 1463.325699955225, Total Value: 8187.922970443964, Shares: {'AAPL': np.float64(24.0), 'TSLA': np.float64(257.0), 'META': np.float64(0.0), 'NVDA': np.float64(295.0), 'GME': np.float64(158.0)}\n",
      "Step: 1450, Balance: 1456.6996724903584, Total Value: 8470.415452748537, Shares: {'AAPL': np.float64(0.0), 'TSLA': np.float64(409.0), 'META': np.float64(0.0), 'NVDA': np.float64(116.0), 'GME': np.float64(0.0)}\n",
      "Step: 1470, Balance: 434.666454821825, Total Value: 10444.021897107363, Shares: {'AAPL': np.float64(0.0), 'TSLA': np.float64(419.0), 'META': np.float64(3.0), 'NVDA': np.float64(17.0), 'GME': np.float64(322.0)}\n",
      "Step: 1490, Balance: 0.7764364778995514, Total Value: 10993.499238878489, Shares: {'AAPL': np.float64(105.0), 'TSLA': np.float64(171.0), 'META': np.float64(0.0), 'NVDA': np.float64(0.0), 'GME': np.float64(369.0)}\n",
      "Step: 1510, Balance: 4319.739221125841, Total Value: 12337.556271344423, Shares: {'AAPL': np.float64(0.0), 'TSLA': np.float64(99.0), 'META': np.float64(22.0), 'NVDA': np.float64(72.0), 'GME': np.float64(98.0)}\n",
      "Step: 1530, Balance: 7.071549862623215, Total Value: 12637.287833243608, Shares: {'AAPL': np.float64(133.0), 'TSLA': np.float64(6.0), 'META': np.float64(9.0), 'NVDA': np.float64(53.0), 'GME': np.float64(295.0)}\n",
      "Step: 1550, Balance: 1870.1404155790806, Total Value: 11576.824342161417, Shares: {'AAPL': np.float64(0.0), 'TSLA': np.float64(145.0), 'META': np.float64(1.0), 'NVDA': np.float64(251.0), 'GME': np.float64(621.0)}\n",
      "Step: 1570, Balance: 375.95838752388954, Total Value: 8845.323279291391, Shares: {'AAPL': np.float64(0.0), 'TSLA': np.float64(108.0), 'META': np.float64(25.0), 'NVDA': np.float64(53.0), 'GME': np.float64(410.0)}\n",
      "Step: 1590, Balance: 218.64638140797615, Total Value: 11856.568265587091, Shares: {'AAPL': np.float64(85.0), 'TSLA': np.float64(73.0), 'META': np.float64(6.0), 'NVDA': np.float64(0.0), 'GME': np.float64(749.0)}\n",
      "Step: 1610, Balance: 8652.644006282091, Total Value: 12954.445801407099, Shares: {'AAPL': np.float64(5.0), 'TSLA': np.float64(38.0), 'META': np.float64(1.0), 'NVDA': np.float64(115.0), 'GME': np.float64(539.0)}\n",
      "Step: 1630, Balance: 14094.838370710611, Total Value: 14707.828349500895, Shares: {'AAPL': np.float64(0.0), 'TSLA': np.float64(0.0), 'META': np.float64(0.0), 'NVDA': np.float64(0.0), 'GME': np.float64(556.0)}\n",
      "Step: 1650, Balance: 5048.95219245553, Total Value: 14761.08575180173, Shares: {'AAPL': np.float64(0.0), 'TSLA': np.float64(0.0), 'META': np.float64(31.0), 'NVDA': np.float64(182.0), 'GME': np.float64(679.0)}\n",
      "Step: 1670, Balance: 8646.786682993174, Total Value: 17536.40037742257, Shares: {'AAPL': np.float64(10.0), 'TSLA': np.float64(20.0), 'META': np.float64(0.0), 'NVDA': np.float64(345.0), 'GME': np.float64(774.0)}\n",
      "Step: 1690, Balance: 1380.0590869486332, Total Value: 19384.384984880686, Shares: {'AAPL': np.float64(14.0), 'TSLA': np.float64(77.0), 'META': np.float64(0.0), 'NVDA': np.float64(309.0), 'GME': np.float64(609.0)}\n",
      "Step: 1710, Balance: 122.86494436860085, Total Value: 19634.121061950922, Shares: {'AAPL': np.float64(36.0), 'TSLA': np.float64(7.0), 'META': np.float64(45.0), 'NVDA': np.float64(110.0), 'GME': np.float64(265.0)}\n",
      "Step: 1730, Balance: 15.828753143548965, Total Value: 18737.715779453516, Shares: {'AAPL': np.float64(0.0), 'TSLA': np.float64(21.0), 'META': np.float64(43.0), 'NVDA': np.float64(193.0), 'GME': np.float64(527.0)}\n",
      "Step: 1750, Balance: 5536.479030281305, Total Value: 20559.971755176783, Shares: {'AAPL': np.float64(1.0), 'TSLA': np.float64(45.0), 'META': np.float64(10.0), 'NVDA': np.float64(50.0), 'GME': np.float64(602.0)}\n",
      "Step: 1770, Balance: 41.7722353041172, Total Value: 22306.7973703444, Shares: {'AAPL': np.float64(12.0), 'TSLA': np.float64(11.0), 'META': np.float64(51.0), 'NVDA': np.float64(176.0), 'GME': np.float64(312.0)}\n",
      "Step: 1790, Balance: 1674.5146354734898, Total Value: 20247.06827393174, Shares: {'AAPL': np.float64(0.0), 'TSLA': np.float64(44.0), 'META': np.float64(0.0), 'NVDA': np.float64(110.0), 'GME': np.float64(391.0)}\n",
      "Step: 1810, Balance: 10412.853784948587, Total Value: 28578.437036901712, Shares: {'AAPL': np.float64(0.0), 'TSLA': np.float64(0.0), 'META': np.float64(68.0), 'NVDA': np.float64(0.0), 'GME': np.float64(0.0)}\n",
      "Step: 1830, Balance: 7100.125791937113, Total Value: 31410.175393491983, Shares: {'AAPL': np.float64(173.0), 'TSLA': np.float64(8.0), 'META': np.float64(0.0), 'NVDA': np.float64(15.0), 'GME': np.float64(0.0)}\n",
      "Step: 1850, Balance: 10279.894154936075, Total Value: 29624.205640226603, Shares: {'AAPL': np.float64(0.0), 'TSLA': np.float64(0.0), 'META': np.float64(50.0), 'NVDA': np.float64(0.0), 'GME': np.float64(115.0)}\n",
      "Step: 1870, Balance: 27.02026692032814, Total Value: 37163.07660236955, Shares: {'AAPL': np.float64(149.0), 'TSLA': np.float64(0.0), 'META': np.float64(29.0), 'NVDA': np.float64(0.0), 'GME': np.float64(120.0)}\n",
      "Step: 1890, Balance: 12437.953391462564, Total Value: 36678.792941480875, Shares: {'AAPL': np.float64(0.0), 'TSLA': np.float64(5.0), 'META': np.float64(16.0), 'NVDA': np.float64(314.0), 'GME': np.float64(235.0)}\n",
      "Step: 1910, Balance: 10396.10229626298, Total Value: 33493.090375334024, Shares: {'AAPL': np.float64(4.0), 'TSLA': np.float64(4.0), 'META': np.float64(0.0), 'NVDA': np.float64(250.0), 'GME': np.float64(450.0)}\n",
      "Step: 1930, Balance: 15.20750942826271, Total Value: 41533.822766691446, Shares: {'AAPL': np.float64(0.0), 'TSLA': np.float64(75.0), 'META': np.float64(5.0), 'NVDA': np.float64(58.0), 'GME': np.float64(375.0)}\n",
      "Step: 1950, Balance: 9071.563702970743, Total Value: 36873.180177122355, Shares: {'AAPL': np.float64(1.0), 'TSLA': np.float64(5.0), 'META': np.float64(6.0), 'NVDA': np.float64(142.0), 'GME': np.float64(488.0)}\n",
      "Step: 1970, Balance: 2177.5029253065586, Total Value: 38696.15499058366, Shares: {'AAPL': np.float64(44.0), 'TSLA': np.float64(0.0), 'META': np.float64(42.0), 'NVDA': np.float64(66.0), 'GME': np.float64(329.0)}\n",
      "Step: 1990, Balance: 3.3328279554843903, Total Value: 39808.52368488908, Shares: {'AAPL': np.float64(25.0), 'TSLA': np.float64(26.0), 'META': np.float64(0.0), 'NVDA': np.float64(2.0), 'GME': np.float64(531.0)}\n",
      "Step: 2010, Balance: 20948.401914030313, Total Value: 37874.18285885453, Shares: {'AAPL': np.float64(6.0), 'TSLA': np.float64(11.0), 'META': np.float64(9.0), 'NVDA': np.float64(0.0), 'GME': np.float64(236.0)}\n",
      "Step: 2030, Balance: 21276.205354124308, Total Value: 32292.66003933549, Shares: {'AAPL': np.float64(0.0), 'TSLA': np.float64(5.0), 'META': np.float64(1.0), 'NVDA': np.float64(185.0), 'GME': np.float64(203.0)}\n",
      "Step: 2050, Balance: 19.09696713089943, Total Value: 35127.47528401017, Shares: {'AAPL': np.float64(0.0), 'TSLA': np.float64(4.0), 'META': np.float64(101.0), 'NVDA': np.float64(138.0), 'GME': np.float64(385.0)}\n",
      "Step: 2070, Balance: 3082.9001897871494, Total Value: 43503.22770443559, Shares: {'AAPL': np.float64(3.0), 'TSLA': np.float64(5.0), 'META': np.float64(65.0), 'NVDA': np.float64(108.0), 'GME': np.float64(615.0)}\n",
      "Step: 2090, Balance: 6089.421649366617, Total Value: 42773.5484880507, Shares: {'AAPL': np.float64(71.0), 'TSLA': np.float64(25.0), 'META': np.float64(0.0), 'NVDA': np.float64(187.0), 'GME': np.float64(364.0)}\n",
      "Step: 2110, Balance: 143.56969395279884, Total Value: 34006.35059300065, Shares: {'AAPL': np.float64(12.0), 'TSLA': np.float64(57.0), 'META': np.float64(0.0), 'NVDA': np.float64(227.0), 'GME': np.float64(600.0)}\n",
      "Step: 2130, Balance: 3511.6841110289097, Total Value: 34822.89964142442, Shares: {'AAPL': np.float64(40.0), 'TSLA': np.float64(15.0), 'META': np.float64(57.0), 'NVDA': np.float64(275.0), 'GME': np.float64(273.0)}\n",
      "Step: 2150, Balance: 155.92348423600197, Total Value: 38212.572322279215, Shares: {'AAPL': np.float64(21.0), 'TSLA': np.float64(0.0), 'META': np.float64(140.0), 'NVDA': np.float64(224.0), 'GME': np.float64(175.0)}\n",
      "Step: 2170, Balance: 10275.971433073282, Total Value: 43017.84267941117, Shares: {'AAPL': np.float64(117.0), 'TSLA': np.float64(10.0), 'META': np.float64(5.0), 'NVDA': np.float64(467.0), 'GME': np.float64(0.0)}\n",
      "Step: 2190, Balance: 7696.787254720926, Total Value: 37535.578146368265, Shares: {'AAPL': np.float64(87.0), 'TSLA': np.float64(18.0), 'META': np.float64(0.0), 'NVDA': np.float64(397.0), 'GME': np.float64(208.0)}\n",
      "Step: 2210, Balance: 1398.90038433671, Total Value: 34012.64099064469, Shares: {'AAPL': np.float64(0.0), 'TSLA': np.float64(77.0), 'META': np.float64(0.0), 'NVDA': np.float64(714.0), 'GME': np.float64(303.0)}\n",
      "Step: 2230, Balance: 14959.434400945902, Total Value: 33186.93135109544, Shares: {'AAPL': np.float64(0.0), 'TSLA': np.float64(0.0), 'META': np.float64(5.0), 'NVDA': np.float64(821.0), 'GME': np.float64(278.0)}\n",
      "Step: 2250, Balance: 18682.669582754374, Total Value: 35575.29698601365, Shares: {'AAPL': np.float64(71.0), 'TSLA': np.float64(10.0), 'META': np.float64(0.0), 'NVDA': np.float64(300.0), 'GME': np.float64(0.0)}\n",
      "Step: 2270, Balance: 1346.1923412382603, Total Value: 32963.49280014634, Shares: {'AAPL': np.float64(146.0), 'TSLA': np.float64(10.0), 'META': np.float64(21.0), 'NVDA': np.float64(446.0), 'GME': np.float64(120.0)}\n",
      "Step: 2290, Balance: 21398.33197441697, Total Value: 39948.55921974778, Shares: {'AAPL': np.float64(0.0), 'TSLA': np.float64(19.0), 'META': np.float64(5.0), 'NVDA': np.float64(273.0), 'GME': np.float64(368.0)}\n",
      "Step: 2310, Balance: 181.95155182480812, Total Value: 37749.52387467027, Shares: {'AAPL': np.float64(0.0), 'TSLA': np.float64(94.0), 'META': np.float64(22.0), 'NVDA': np.float64(464.0), 'GME': np.float64(286.0)}\n",
      "Step: 2330, Balance: 3399.3312038481236, Total Value: 40837.92049065232, Shares: {'AAPL': np.float64(0.0), 'TSLA': np.float64(99.0), 'META': np.float64(0.0), 'NVDA': np.float64(498.0), 'GME': np.float64(258.0)}\n",
      "Step: 2350, Balance: 4426.095924764872, Total Value: 39509.85724297166, Shares: {'AAPL': np.float64(95.0), 'TSLA': np.float64(12.0), 'META': np.float64(0.0), 'NVDA': np.float64(414.0), 'GME': np.float64(318.0)}\n",
      "Step: 2370, Balance: 27383.93479385972, Total Value: 48004.0620521605, Shares: {'AAPL': np.float64(0.0), 'TSLA': np.float64(0.0), 'META': np.float64(18.0), 'NVDA': np.float64(112.0), 'GME': np.float64(460.0)}\n",
      "Step: 2390, Balance: 8.875856786966324, Total Value: 54948.74213257432, Shares: {'AAPL': np.float64(108.0), 'TSLA': np.float64(94.0), 'META': np.float64(0.0), 'NVDA': np.float64(39.0), 'GME': np.float64(256.0)}\n",
      "Step: 2410, Balance: 7209.874069601297, Total Value: 51452.2994236052, Shares: {'AAPL': np.float64(5.0), 'TSLA': np.float64(141.0), 'META': np.float64(5.0), 'NVDA': np.float64(30.0), 'GME': np.float64(161.0)}\n",
      "Step: 2430, Balance: 18641.491999059916, Total Value: 48948.870167165995, Shares: {'AAPL': np.float64(13.0), 'TSLA': np.float64(4.0), 'META': np.float64(89.0), 'NVDA': np.float64(10.0), 'GME': np.float64(1.0)}\n",
      "Step: 2450, Balance: 30179.29257813096, Total Value: 49094.92228928208, Shares: {'AAPL': np.float64(18.0), 'TSLA': np.float64(8.0), 'META': np.float64(35.0), 'NVDA': np.float64(64.0), 'GME': np.float64(50.0)}\n",
      "Step: 2470, Balance: 4411.95396271348, Total Value: 46658.87298050523, Shares: {'AAPL': np.float64(62.0), 'TSLA': np.float64(100.0), 'META': np.float64(5.0), 'NVDA': np.float64(114.0), 'GME': np.float64(308.0)}\n",
      "Step: 2490, Balance: 12.502986341714859, Total Value: 49812.90633144975, Shares: {'AAPL': np.float64(133.0), 'TSLA': np.float64(28.0), 'META': np.float64(33.0), 'NVDA': np.float64(55.0), 'GME': np.float64(330.0)}\n",
      "Step: 2510, Balance: 31022.570654302835, Total Value: 53064.83682861924, Shares: {'AAPL': np.float64(10.0), 'TSLA': np.float64(5.0), 'META': np.float64(32.0), 'NVDA': np.float64(60.0), 'GME': np.float64(272.0)}\n",
      "Monte Carlo Agent Results:\n",
      "Step: 2515, Balance: 38850.18257561326, Total Value: 52992.25787010789, Shares: {'AAPL': np.float64(1.0), 'TSLA': np.float64(25.0), 'META': np.float64(15.0), 'NVDA': np.float64(0.0), 'GME': np.float64(140.0)}\n",
      "Monte Carlo Agent Final Portfolio Value: 45947.75\n"
     ]
    }
   ],
   "source": [
    "# Evaluating the Agent Performance\n",
    "monte_carlo_evaluation = monte_carlo_eval(monte_carlo_env, monte_carlo_q_table)"
   ]
  },
  {
   "cell_type": "code",
   "execution_count": 7,
   "metadata": {},
   "outputs": [
    {
     "name": "stdout",
     "output_type": "stream",
     "text": [
      "Percentage of positive profits: 55.05%\n"
     ]
    }
   ],
   "source": [
    "# Calculate the percent of positive profits\n",
    "profit_list = monte_carlo_env.profits\n",
    "positive_profits = [profit for profit in profit_list if profit > 0]\n",
    "percentage_positive_profits = (len(positive_profits) / len(profit_list)) * 100 if profit_list else 0\n",
    "print(f\"Percentage of positive profits: {percentage_positive_profits:.2f}%\")"
   ]
  },
  {
   "cell_type": "markdown",
   "metadata": {},
   "source": [
    "### Policy Gradient"
   ]
  },
  {
   "cell_type": "code",
   "execution_count": 6,
   "metadata": {},
   "outputs": [],
   "source": [
    "from policy_gradient import PolicyNetwork, PolicyGradientAgent, train_policy_gradient"
   ]
  },
  {
   "cell_type": "code",
   "execution_count": 8,
   "metadata": {},
   "outputs": [
    {
     "name": "stderr",
     "output_type": "stream",
     "text": [
      "[*********************100%***********************]  5 of 5 completed\n"
     ]
    }
   ],
   "source": [
    "policy_gradient_env = StockTrainingEnv(tickers=['AAPL', 'TSLA', 'META', 'NVDA', 'GME'])"
   ]
  },
  {
   "cell_type": "code",
   "execution_count": 9,
   "metadata": {},
   "outputs": [],
   "source": [
    "# # Define dimensions for the agent\n",
    "state_dim = policy_gradient_env.observation_space.shape[1]\n",
    "num_tickers = len(policy_gradient_env.tickers)\n",
    "possible_trades = policy_gradient_env.possible_trades"
   ]
  },
  {
   "cell_type": "code",
   "execution_count": 10,
   "metadata": {},
   "outputs": [],
   "source": [
    "# # Create agent\n",
    "agent = PolicyGradientAgent(\n",
    "    state_dim=state_dim,\n",
    "    num_tickers=num_tickers,\n",
    "    possible_trades=possible_trades\n",
    ")"
   ]
  },
  {
   "cell_type": "code",
   "execution_count": 12,
   "metadata": {},
   "outputs": [
    {
     "name": "stderr",
     "output_type": "stream",
     "text": [
      "Training Policy Gradient: 100%|██████████| 1000/1000 [57:14<00:00,  3.43s/it, total_reward=108172.27, avg_reward=43.53] \n"
     ]
    }
   ],
   "source": [
    "# # Train agent\n",
    "train_policy_gradient(policy_gradient_env, agent, episodes=1000, gamma=0.99, lr=0.001)"
   ]
  },
  {
   "cell_type": "code",
   "execution_count": 13,
   "metadata": {},
   "outputs": [
    {
     "name": "stdout",
     "output_type": "stream",
     "text": [
      "Percentage of positive profits: 0.00%\n"
     ]
    }
   ],
   "source": [
    "profit_list = policy_gradient_env.profits\n",
    "positive_profits = [profit for profit in profit_list if profit > 0]\n",
    "percentage_positive_profits = (len(positive_profits) / len(profit_list)) * 100 if profit_list else 0\n",
    "print(f\"Percentage of positive profits: {percentage_positive_profits:.2f}%\")"
   ]
  },
  {
   "cell_type": "markdown",
   "metadata": {},
   "source": [
    "### A2C"
   ]
  },
  {
   "cell_type": "code",
   "execution_count": null,
   "metadata": {},
   "outputs": [],
   "source": [
    "from a2c_model import ActorCriticNetwork, A2CAgent, a2c_train, a2c_eval"
   ]
  },
  {
   "cell_type": "code",
   "execution_count": null,
   "metadata": {},
   "outputs": [],
   "source": [
    "a2c_env = StockTrainingEnv(tickers=['AAPL', 'TSLA', 'META', 'NVDA', 'GME'])"
   ]
  },
  {
   "cell_type": "code",
   "execution_count": null,
   "metadata": {},
   "outputs": [],
   "source": [
    "# Create Agent and train\n",
    "a2c_agent = A2CAgent(a2c_env)\n",
    "a2c_agent_train = a2c_train(a2c_env, a2c_agent)"
   ]
  },
  {
   "cell_type": "code",
   "execution_count": null,
   "metadata": {},
   "outputs": [],
   "source": [
    "# Evaluate A2C agent\n",
    "a2c_agent_eval = a2c_eval(a2c_env, a2c_agent)"
   ]
  },
  {
   "cell_type": "code",
   "execution_count": null,
   "metadata": {},
   "outputs": [],
   "source": [
    "# Calculate the percent of positive profits\n",
    "profit_list = a2c_env.profits\n",
    "positive_profits = [profit for profit in profit_list if profit > 0]\n",
    "percentage_positive_profits = (len(positive_profits) / len(profit_list)) * 100 if profit_list else 0\n",
    "print(f\"Percentage of positive profits: {percentage_positive_profits:.2f}%\")"
   ]
  },
  {
   "attachments": {},
   "cell_type": "markdown",
   "metadata": {},
   "source": [
    "# Discussion\n",
    "\n",
    "### Interpreting the result\n",
    "\n",
    "OK, you've given us quite a bit of tech informaiton above, now its time to tell us what to pay attention to in all that.  Think clearly about your results, decide on one main point and 2-4 secondary points you want us to understand. Highlight HOW your results support those points.  You probably want 2-5 sentences per point.\n",
    "\n",
    "\n",
    "### Limitations\n",
    "\n",
    "Are there any problems with the work?  For instance would more data change the nature of the problem? Would it be good to explore more hyperparams than you had time for?   \n",
    "\n",
    "\n",
    "### Future work\n",
    "Looking at the limitations and/or the toughest parts of the problem and/or the situations where the algorithm(s) did the worst... is there something you'd like to try to make these better.\n",
    "\n",
    "### Ethics & Privacy\n",
    "\n",
    "If your project has obvious potential concerns with ethics or data privacy discuss that here.  Almost every ML project put into production can have ethical implications if you use your imagination. Use your imagination.\n",
    "\n",
    "Even if you can't come up with an obvious ethical concern that should be addressed, you should know that a large number of ML projects that go into producation have unintended consequences and ethical problems once in production. How will your team address these issues?\n",
    "\n",
    "Consider a tool to help you address the potential issues such as https://deon.drivendata.org\n",
    "\n",
    "### Conclusion\n",
    "\n",
    "Reiterate your main point and in just a few sentences tell us how your results support it. Mention how this work would fit in the background/context of other work in this field if you can. Suggest directions for future work if you want to."
   ]
  },
  {
   "cell_type": "markdown",
   "metadata": {},
   "source": [
    "# Footnotes\n",
    "<a name=\"lorenznote\"></a>1.[^](#lorenz): Lorenz, T. (9 Dec 2021) Birds Aren’t Real, or Are They? Inside a Gen Z Conspiracy Theory. *The New York Times*. https://www.nytimes.com/2021/12/09/technology/birds-arent-real-gen-z-misinformation.html<br> \n",
    "<a name=\"admonishnote\"></a>2.[^](#admonish): Also refs should be important to the background, not some randomly chosen vaguely related stuff. Include a web link if possible in refs as above.<br>\n",
    "<a name=\"sotanote\"></a>3.[^](#sota): Perhaps the current state of the art solution such as you see on [Papers with code](https://paperswithcode.com/sota). Or maybe not SOTA, but rather a standard textbook/Kaggle solution to this kind of problem\n"
   ]
  },
  {
   "cell_type": "code",
   "execution_count": null,
   "metadata": {},
   "outputs": [],
   "source": []
  }
 ],
 "metadata": {
  "kernelspec": {
   "display_name": "Python 3",
   "language": "python",
   "name": "python3"
  },
  "language_info": {
   "codemirror_mode": {
    "name": "ipython",
    "version": 3
   },
   "file_extension": ".py",
   "mimetype": "text/x-python",
   "name": "python",
   "nbconvert_exporter": "python",
   "pygments_lexer": "ipython3",
   "version": "3.12.7"
  },
  "vscode": {
   "interpreter": {
    "hash": "40d3a090f54c6569ab1632332b64b2c03c39dcf918b08424e98f38b5ae0af88f"
   }
  }
 },
 "nbformat": 4,
 "nbformat_minor": 2
}
